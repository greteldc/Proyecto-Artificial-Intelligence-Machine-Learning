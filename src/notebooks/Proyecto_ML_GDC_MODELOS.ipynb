{
 "cells": [
  {
   "cell_type": "markdown",
   "metadata": {},
   "source": [
    "## proyecto machine learning  -  parte modelos\n",
    "Gretel De Cuyper\n",
    "\n",
    "**seguimiento del proyecto en este notebook a partir de 4.2.**"
   ]
  },
  {
   "cell_type": "markdown",
   "metadata": {},
   "source": [
    "**contenido proyecto**"
   ]
  },
  {
   "cell_type": "markdown",
   "metadata": {},
   "source": [
    "0. Instalación software\n",
    "\n",
    "1. Importar librerías   \n",
    "\n",
    "2. Importar (y en este caso: constituir) dataset   \n",
    "\n",
    "3. Primera exploración dataset  \n",
    "3.1. Información 'real world' sobre el dataset   \n",
    "3.2. Distribución de las variables y su relación con target  \n",
    "3.2.1. Target: distribución de sus valores  \n",
    "3.2.2. Variables numéricas  \n",
    "-- a) distribución de los valores de cada variable  \n",
    "-- b) distribución de las variables respecto a la target  \n",
    "3.2.3. Variables categóricas  \n",
    "-- 3.2.3.1. distribución de los varloes de cada variables  \n",
    "-- 3.2.3.2. distribución de las variables respecto a la target  \n",
    "\n",
    "4. Preprocesado dataset  \n",
    "4.1. FASE 1 : transformar el dataset para su modelling (los puntos siguientes no se tratarán literalmente en el orden dado, pero sí dan un vistazo de las modadilidades de transformación)  \n",
    "•\t4.1.1. Layout  \n",
    "•\t4.1.2. Transformaciones que afectan al contenido/procesamiento  \n",
    "-- 4.1.2.1. Encoding?  \n",
    "-- 4.1.2.2. Missing values?  \n",
    "-- 4.1.2.3. Duplicados?  \n",
    "•\t4.1.3. Peso dataset  \n",
    "<br>\n",
    "4.2. FASE 2 : preparación específica del dataset para el modelling  \n",
    "•\t4.2.1. Split X & y  \n",
    "•\t4.2.2. Split train & test  \n",
    "•\t4.2.3. Class Imbalance   \n",
    "•\t4.2.4. Scaling   \n",
    "   \n",
    "5. Entrenar algoritmos: \n",
    "probar modelos (dividos en grupos por usar datos escalados vs. no) + evaluar + optimizar  \n",
    "---------------------------MODELOS 'SIMPLES'--------------------:\n",
    "- logistic regression: básico, cambio hyperparámetros, con cv\n",
    "- SVM: básico, cambio hyperparámetros, con cv\n",
    "- KNN: básico, cambio hyperparámetros, con cv\n",
    "- Naive Bayes: básico, cambio hyperparámetros, con cv\n",
    "- Decision Tree: básico, cambio hyperparámetros, con cv  \n",
    "----------------------------------ENSAMBLES-------------------:\n",
    "- Voting Classifier: básico, cambio hyperparámetros, con cv\n",
    "- Bagging Classifier: básico, cambio hyperparámetros, con cv\n",
    "- Pasting Classifier: básico, cambio hyperparámetros, con cv\n",
    "- Random Forest Classifier: básico, cambio hyperparámetros, con cv\n",
    "- AdaBoost Classifier: básico, cambio hyperparámetros, con cv\n",
    "- GradientBoostingClassifier: básico, cambio hyperparámetros, con cv\n",
    "- XGBoost Classifier: básico, cambio hyperparámetros, con cv\n",
    "\n",
    "--------------------------------------------------------------:\n",
    "- aplicación de Pipeline\n",
    "\n",
    "6. Seleccionar algoritmo\n",
    "7. Optimizar algoritmo\n",
    "8. Guardar algoritmo\n"
   ]
  },
  {
   "cell_type": "markdown",
   "metadata": {},
   "source": [
    "# 0. Instalar software"
   ]
  },
  {
   "cell_type": "code",
   "execution_count": 1,
   "metadata": {},
   "outputs": [],
   "source": [
    "#pip install graphing"
   ]
  },
  {
   "cell_type": "code",
   "execution_count": 2,
   "metadata": {},
   "outputs": [],
   "source": [
    "#!pip install missingno"
   ]
  },
  {
   "cell_type": "code",
   "execution_count": 3,
   "metadata": {},
   "outputs": [],
   "source": [
    "#pip install sharp"
   ]
  },
  {
   "cell_type": "markdown",
   "metadata": {},
   "source": [
    "# 1. Importar librerías"
   ]
  },
  {
   "cell_type": "code",
   "execution_count": 108,
   "metadata": {},
   "outputs": [],
   "source": [
    "#LOAD AMD MANIPULATE DATA\n",
    "import pandas as pd\n",
    "from pandas_summary import DataFrameSummary\n",
    "\n",
    "#CALCULATE WITH DATA (mean, std)\n",
    "import numpy as np\n",
    "\n",
    "#ML PREPROCESSING - ANALISIS DE DATOS PREDICTIVO\n",
    "##encoders\n",
    "from sklearn.preprocessing import OneHotEncoder\n",
    "#from sklearn.preprocessing import OrdinalEncoder\n",
    "from sklearn.preprocessing import LabelEncoder\n",
    "##scalers\n",
    "from sklearn.preprocessing import StandardScaler\n",
    "#from sklearn.preprocessing import MinMaxScaler\n",
    "##balancers\n",
    "#from imblearn.over_sampling import SMOTE\n",
    "\n",
    "#ML PROCESSING\n",
    "## classification\n",
    "### linear\n",
    "from sklearn.linear_model import LogisticRegression\n",
    "from sklearn.linear_model import LogisticRegressionCV\n",
    "from sklearn.svm import LinearSVC\n",
    "from sklearn.naive_bayes import GaussianNB\n",
    "from sklearn.tree import DecisionTreeClassifier\n",
    "from sklearn.neighbors import KNeighborsClassifier\n",
    "from sklearn.svm import SVC\n",
    "### regularizacion\n",
    "from sklearn.linear_model import Ridge\n",
    "from sklearn.linear_model import Lasso\n",
    "from sklearn.linear_model import ElasticNet\n",
    "from sklearn.linear_model import RidgeCV  #performs automatic tuning for hyperPa\n",
    "from sklearn.linear_model import LassoCV #performs automatic tuning for hyperPA\n",
    "from sklearn.linear_model import ElasticNetCV #performas automatic tuning for hyperPA\n",
    "### ensambles - classification\n",
    "from sklearn.ensemble import RandomForestClassifier\n",
    "from sklearn.ensemble import VotingClassifier\n",
    "from sklearn.ensemble import BaggingClassifier  #incl pasting\n",
    "from sklearn.ensemble import AdaBoostClassifier\n",
    "from sklearn.ensemble import GradientBoostingClassifier\n",
    "from xgboost import XGBClassifier\n",
    "\n",
    "## vis build\n",
    "from sklearn.tree import plot_tree\n",
    "\n",
    "## split data into training and testing sets\n",
    "from sklearn.model_selection import train_test_split\n",
    "\n",
    "## evaluation:\n",
    "### classification\n",
    "from sklearn.metrics import confusion_matrix\n",
    "from sklearn.metrics import accuracy_score\n",
    "from sklearn.metrics import precision_score\n",
    "from sklearn.metrics import recall_score\n",
    "from sklearn.metrics import f1_score\n",
    "from sklearn.metrics import roc_curve\n",
    "from sklearn.metrics import auc\n",
    "from sklearn.metrics import roc_auc_score\n",
    "from sklearn.metrics import classification_report\n",
    "from statsmodels.iolib import summary\n",
    "### visualizacion\n",
    "from sklearn.metrics import plot_confusion_matrix\n",
    "\n",
    "## agrupación\n",
    "# ### modelos/parametros/splits\n",
    "from sklearn.pipeline import Pipeline\n",
    "from sklearn.model_selection import GridSearchCV   ###\n",
    "from sklearn.model_selection import RandomizedSearchCV\n",
    "from sklearn.model_selection import KFold\n",
    "from sklearn.model_selection import StratifiedKFold\n",
    "### evaluation\n",
    "from sklearn.model_selection import cross_val_score\n",
    "\n",
    "# ML OPTIMALIZATION: contribución de los ff (siempre respecto al modelo!)\n",
    "from sklearn.inspection import permutation_importance\n",
    "from sklearn.base import clone\n",
    "# sharp import summary_plot\n",
    "\n",
    "# GENERAL: visualization \n",
    "import matplotlib.pyplot as plt\n",
    "%matplotlib inline\n",
    "import seaborn as sns\n",
    "#import graphing\n",
    "import missingno as msno\n",
    "\n",
    "#guardar modelos\n",
    "import pickle\n",
    "\n",
    "# quitar deprecationwarnings\n",
    "import warnings\n",
    "warnings.filterwarnings(\"ignore\", category=DeprecationWarning)\n",
    "\n",
    "# no integrado: deeplearning (tensorflow,...)"
   ]
  },
  {
   "cell_type": "markdown",
   "metadata": {},
   "source": [
    "# 4.2. FASE 2 - PREPARACIÓN DEL DATASET PARA EL MODELLING"
   ]
  },
  {
   "cell_type": "code",
   "execution_count": 8,
   "metadata": {},
   "outputs": [],
   "source": [
    "data_proc = pd.read_csv(\"../data/processed/dataset_input_ML.csv\")"
   ]
  },
  {
   "cell_type": "code",
   "execution_count": 9,
   "metadata": {},
   "outputs": [
    {
     "data": {
      "text/html": [
       "<div>\n",
       "<style scoped>\n",
       "    .dataframe tbody tr th:only-of-type {\n",
       "        vertical-align: middle;\n",
       "    }\n",
       "\n",
       "    .dataframe tbody tr th {\n",
       "        vertical-align: top;\n",
       "    }\n",
       "\n",
       "    .dataframe thead th {\n",
       "        text-align: right;\n",
       "    }\n",
       "</style>\n",
       "<table border=\"1\" class=\"dataframe\">\n",
       "  <thead>\n",
       "    <tr style=\"text-align: right;\">\n",
       "      <th></th>\n",
       "      <th>age</th>\n",
       "      <th>education-num</th>\n",
       "      <th>hours-per-week</th>\n",
       "      <th>capital-gain</th>\n",
       "      <th>sex</th>\n",
       "      <th>REL-NotInFam</th>\n",
       "      <th>REL-OtherRelat</th>\n",
       "      <th>REL-OwnChild</th>\n",
       "      <th>REL-Unmarr</th>\n",
       "      <th>REL-Spouse</th>\n",
       "      <th>result_01</th>\n",
       "    </tr>\n",
       "  </thead>\n",
       "  <tbody>\n",
       "    <tr>\n",
       "      <th>0</th>\n",
       "      <td>39</td>\n",
       "      <td>13</td>\n",
       "      <td>40</td>\n",
       "      <td>2174</td>\n",
       "      <td>1</td>\n",
       "      <td>1</td>\n",
       "      <td>0</td>\n",
       "      <td>0</td>\n",
       "      <td>0</td>\n",
       "      <td>0</td>\n",
       "      <td>0</td>\n",
       "    </tr>\n",
       "    <tr>\n",
       "      <th>1</th>\n",
       "      <td>50</td>\n",
       "      <td>13</td>\n",
       "      <td>13</td>\n",
       "      <td>0</td>\n",
       "      <td>1</td>\n",
       "      <td>0</td>\n",
       "      <td>0</td>\n",
       "      <td>0</td>\n",
       "      <td>0</td>\n",
       "      <td>1</td>\n",
       "      <td>0</td>\n",
       "    </tr>\n",
       "    <tr>\n",
       "      <th>2</th>\n",
       "      <td>38</td>\n",
       "      <td>9</td>\n",
       "      <td>40</td>\n",
       "      <td>0</td>\n",
       "      <td>1</td>\n",
       "      <td>1</td>\n",
       "      <td>0</td>\n",
       "      <td>0</td>\n",
       "      <td>0</td>\n",
       "      <td>0</td>\n",
       "      <td>0</td>\n",
       "    </tr>\n",
       "    <tr>\n",
       "      <th>3</th>\n",
       "      <td>53</td>\n",
       "      <td>7</td>\n",
       "      <td>40</td>\n",
       "      <td>0</td>\n",
       "      <td>1</td>\n",
       "      <td>0</td>\n",
       "      <td>0</td>\n",
       "      <td>0</td>\n",
       "      <td>0</td>\n",
       "      <td>1</td>\n",
       "      <td>0</td>\n",
       "    </tr>\n",
       "    <tr>\n",
       "      <th>4</th>\n",
       "      <td>28</td>\n",
       "      <td>13</td>\n",
       "      <td>40</td>\n",
       "      <td>0</td>\n",
       "      <td>0</td>\n",
       "      <td>0</td>\n",
       "      <td>0</td>\n",
       "      <td>0</td>\n",
       "      <td>0</td>\n",
       "      <td>1</td>\n",
       "      <td>0</td>\n",
       "    </tr>\n",
       "    <tr>\n",
       "      <th>...</th>\n",
       "      <td>...</td>\n",
       "      <td>...</td>\n",
       "      <td>...</td>\n",
       "      <td>...</td>\n",
       "      <td>...</td>\n",
       "      <td>...</td>\n",
       "      <td>...</td>\n",
       "      <td>...</td>\n",
       "      <td>...</td>\n",
       "      <td>...</td>\n",
       "      <td>...</td>\n",
       "    </tr>\n",
       "    <tr>\n",
       "      <th>46028</th>\n",
       "      <td>33</td>\n",
       "      <td>13</td>\n",
       "      <td>40</td>\n",
       "      <td>0</td>\n",
       "      <td>1</td>\n",
       "      <td>0</td>\n",
       "      <td>0</td>\n",
       "      <td>1</td>\n",
       "      <td>0</td>\n",
       "      <td>0</td>\n",
       "      <td>0</td>\n",
       "    </tr>\n",
       "    <tr>\n",
       "      <th>46029</th>\n",
       "      <td>39</td>\n",
       "      <td>13</td>\n",
       "      <td>36</td>\n",
       "      <td>0</td>\n",
       "      <td>0</td>\n",
       "      <td>1</td>\n",
       "      <td>0</td>\n",
       "      <td>0</td>\n",
       "      <td>0</td>\n",
       "      <td>0</td>\n",
       "      <td>0</td>\n",
       "    </tr>\n",
       "    <tr>\n",
       "      <th>46030</th>\n",
       "      <td>38</td>\n",
       "      <td>13</td>\n",
       "      <td>50</td>\n",
       "      <td>0</td>\n",
       "      <td>1</td>\n",
       "      <td>0</td>\n",
       "      <td>0</td>\n",
       "      <td>0</td>\n",
       "      <td>0</td>\n",
       "      <td>1</td>\n",
       "      <td>0</td>\n",
       "    </tr>\n",
       "    <tr>\n",
       "      <th>46031</th>\n",
       "      <td>44</td>\n",
       "      <td>13</td>\n",
       "      <td>40</td>\n",
       "      <td>5455</td>\n",
       "      <td>1</td>\n",
       "      <td>0</td>\n",
       "      <td>0</td>\n",
       "      <td>1</td>\n",
       "      <td>0</td>\n",
       "      <td>0</td>\n",
       "      <td>0</td>\n",
       "    </tr>\n",
       "    <tr>\n",
       "      <th>46032</th>\n",
       "      <td>35</td>\n",
       "      <td>13</td>\n",
       "      <td>60</td>\n",
       "      <td>0</td>\n",
       "      <td>1</td>\n",
       "      <td>0</td>\n",
       "      <td>0</td>\n",
       "      <td>0</td>\n",
       "      <td>0</td>\n",
       "      <td>1</td>\n",
       "      <td>1</td>\n",
       "    </tr>\n",
       "  </tbody>\n",
       "</table>\n",
       "<p>46033 rows × 11 columns</p>\n",
       "</div>"
      ],
      "text/plain": [
       "       age  education-num  hours-per-week  capital-gain  sex  REL-NotInFam  \\\n",
       "0       39             13              40          2174    1             1   \n",
       "1       50             13              13             0    1             0   \n",
       "2       38              9              40             0    1             1   \n",
       "3       53              7              40             0    1             0   \n",
       "4       28             13              40             0    0             0   \n",
       "...    ...            ...             ...           ...  ...           ...   \n",
       "46028   33             13              40             0    1             0   \n",
       "46029   39             13              36             0    0             1   \n",
       "46030   38             13              50             0    1             0   \n",
       "46031   44             13              40          5455    1             0   \n",
       "46032   35             13              60             0    1             0   \n",
       "\n",
       "       REL-OtherRelat  REL-OwnChild  REL-Unmarr  REL-Spouse  result_01  \n",
       "0                   0             0           0           0          0  \n",
       "1                   0             0           0           1          0  \n",
       "2                   0             0           0           0          0  \n",
       "3                   0             0           0           1          0  \n",
       "4                   0             0           0           1          0  \n",
       "...               ...           ...         ...         ...        ...  \n",
       "46028               0             1           0           0          0  \n",
       "46029               0             0           0           0          0  \n",
       "46030               0             0           0           1          0  \n",
       "46031               0             1           0           0          0  \n",
       "46032               0             0           0           1          1  \n",
       "\n",
       "[46033 rows x 11 columns]"
      ]
     },
     "execution_count": 9,
     "metadata": {},
     "output_type": "execute_result"
    }
   ],
   "source": [
    "data_proc"
   ]
  },
  {
   "cell_type": "markdown",
   "metadata": {},
   "source": [
    "## 4.2.1. Split X & y"
   ]
  },
  {
   "cell_type": "code",
   "execution_count": 10,
   "metadata": {},
   "outputs": [],
   "source": [
    "X = data_proc.drop(\"result_01\", axis = 1)\n",
    "y = data_proc[\"result_01\"]"
   ]
  },
  {
   "cell_type": "markdown",
   "metadata": {},
   "source": [
    "## 4.2.2. Split train & test"
   ]
  },
  {
   "cell_type": "code",
   "execution_count": 11,
   "metadata": {},
   "outputs": [],
   "source": [
    "#train,split mediante test_size para hacer un split 'aleatorio' + nos aseguramos que la proporción de los valores del target se mantiene tanto en train como en test, lo que puede resultar útil en caso de un target (fuertemente o ligeramente desbalanceado)\n",
    "X_train, X_test, y_train, y_test = train_test_split(X, y, test_size = 0.20, random_state = 42, stratify = y)   #stratify mejora el roc_auc_score"
   ]
  },
  {
   "cell_type": "code",
   "execution_count": 12,
   "metadata": {},
   "outputs": [
    {
     "name": "stdout",
     "output_type": "stream",
     "text": [
      "(36826, 10)\n",
      "(36826,)\n",
      "(9207, 10)\n",
      "(9207,)\n"
     ]
    }
   ],
   "source": [
    "print(X_train.shape)\n",
    "print(y_train.shape)\n",
    "print(X_test.shape)\n",
    "print(y_test.shape)"
   ]
  },
  {
   "cell_type": "markdown",
   "metadata": {},
   "source": [
    "## 4.2.3. Feature Scaling"
   ]
  },
  {
   "cell_type": "markdown",
   "metadata": {},
   "source": [
    "Aunque los valores de nuestros features no están extremadamente extendida (a excepción de capital-gain), sí puede tener sentido escalar los datos de cara a los modelos que probaremos. A parte de las columnas categóricas transformadas a números (cuyo valor se sitúa en todas nuestras columnas relevante entre 0 y 1), en la columna de age el rango es de 17 hasta 90, en la columna working hours se sitúan entre 1 y 99: "
   ]
  },
  {
   "cell_type": "code",
   "execution_count": 13,
   "metadata": {},
   "outputs": [
    {
     "name": "stdout",
     "output_type": "stream",
     "text": [
      "-----min values-----:\n",
      "age               17\n",
      "education-num      1\n",
      "hours-per-week     1\n",
      "capital-gain       0\n",
      "dtype: int64\n",
      "-----max values-----:\n",
      "age                  90\n",
      "education-num        16\n",
      "hours-per-week       99\n",
      "capital-gain      99999\n",
      "dtype: int64\n"
     ]
    }
   ],
   "source": [
    "print(\"-----min values-----:\")\n",
    "print(data_proc[[\"age\",\"education-num\",\"hours-per-week\", \"capital-gain\"]].min())\n",
    "print(\"-----max values-----:\")\n",
    "print(data_proc[[\"age\",\"education-num\",\"hours-per-week\", \"capital-gain\"]].max())"
   ]
  },
  {
   "cell_type": "markdown",
   "metadata": {},
   "source": [
    "Subdivisión en el tratamiento de los datos:  \n",
    "CAMINO A. para todos aquellos modelos que incluyan DecisionTrees: preferiblemente SIN scaling    \n",
    "CAMINO B. para todos los demás modelos: el scaling está aconsejado"
   ]
  },
  {
   "cell_type": "markdown",
   "metadata": {},
   "source": [
    "Dado que el scaling es un proces (des)aconsejado según el modelo, tomaremos 2 caminos: para el uso 'manual' de los modelos, escalamos ya los datos de X_train en una NUEVA variable, así que nos quedamos con X_train no escalado.  \n",
    "Para aplicaciones de modelos mediante pipelines, usaremos el X_train no escalado.\n",
    "Un ejemplo donde se aplica son los SVM:"
   ]
  },
  {
   "cell_type": "markdown",
   "metadata": {},
   "source": [
    "*\"Feature scaling is mapping the feature values of a dataset into the same range. Feature scaling is crucial for some machine learning algorithms, which consider distances between observations because the distance between two observations differs for non-scaled and scaled cases.\n",
    "\n",
    "As we’ve already stated, the decision boundary maximizes the distance to the nearest data points from different classes. Hence, the distance between data points affects the decision boundary SVM chooses. In other words, training an SVM over the scaled and non-scaled data leads to the generation of different models.\"*\n",
    "https://www.baeldung.com/cs/svm-feature-scaling"
   ]
  },
  {
   "cell_type": "markdown",
   "metadata": {},
   "source": [
    ">> CAMINO A (X_train no escalado)"
   ]
  },
  {
   "cell_type": "code",
   "execution_count": 14,
   "metadata": {},
   "outputs": [
    {
     "data": {
      "text/html": [
       "<div>\n",
       "<style scoped>\n",
       "    .dataframe tbody tr th:only-of-type {\n",
       "        vertical-align: middle;\n",
       "    }\n",
       "\n",
       "    .dataframe tbody tr th {\n",
       "        vertical-align: top;\n",
       "    }\n",
       "\n",
       "    .dataframe thead th {\n",
       "        text-align: right;\n",
       "    }\n",
       "</style>\n",
       "<table border=\"1\" class=\"dataframe\">\n",
       "  <thead>\n",
       "    <tr style=\"text-align: right;\">\n",
       "      <th></th>\n",
       "      <th>age</th>\n",
       "      <th>education-num</th>\n",
       "      <th>hours-per-week</th>\n",
       "      <th>capital-gain</th>\n",
       "      <th>sex</th>\n",
       "      <th>REL-NotInFam</th>\n",
       "      <th>REL-OtherRelat</th>\n",
       "      <th>REL-OwnChild</th>\n",
       "      <th>REL-Unmarr</th>\n",
       "      <th>REL-Spouse</th>\n",
       "    </tr>\n",
       "  </thead>\n",
       "  <tbody>\n",
       "    <tr>\n",
       "      <th>32402</th>\n",
       "      <td>51</td>\n",
       "      <td>10</td>\n",
       "      <td>50</td>\n",
       "      <td>0</td>\n",
       "      <td>1</td>\n",
       "      <td>0</td>\n",
       "      <td>0</td>\n",
       "      <td>0</td>\n",
       "      <td>0</td>\n",
       "      <td>1</td>\n",
       "    </tr>\n",
       "    <tr>\n",
       "      <th>27636</th>\n",
       "      <td>64</td>\n",
       "      <td>10</td>\n",
       "      <td>40</td>\n",
       "      <td>0</td>\n",
       "      <td>1</td>\n",
       "      <td>1</td>\n",
       "      <td>0</td>\n",
       "      <td>0</td>\n",
       "      <td>0</td>\n",
       "      <td>0</td>\n",
       "    </tr>\n",
       "    <tr>\n",
       "      <th>40047</th>\n",
       "      <td>54</td>\n",
       "      <td>6</td>\n",
       "      <td>40</td>\n",
       "      <td>0</td>\n",
       "      <td>1</td>\n",
       "      <td>0</td>\n",
       "      <td>0</td>\n",
       "      <td>0</td>\n",
       "      <td>0</td>\n",
       "      <td>1</td>\n",
       "    </tr>\n",
       "    <tr>\n",
       "      <th>31522</th>\n",
       "      <td>22</td>\n",
       "      <td>10</td>\n",
       "      <td>40</td>\n",
       "      <td>0</td>\n",
       "      <td>1</td>\n",
       "      <td>1</td>\n",
       "      <td>0</td>\n",
       "      <td>0</td>\n",
       "      <td>0</td>\n",
       "      <td>0</td>\n",
       "    </tr>\n",
       "    <tr>\n",
       "      <th>43982</th>\n",
       "      <td>27</td>\n",
       "      <td>9</td>\n",
       "      <td>40</td>\n",
       "      <td>0</td>\n",
       "      <td>1</td>\n",
       "      <td>0</td>\n",
       "      <td>0</td>\n",
       "      <td>0</td>\n",
       "      <td>0</td>\n",
       "      <td>1</td>\n",
       "    </tr>\n",
       "    <tr>\n",
       "      <th>...</th>\n",
       "      <td>...</td>\n",
       "      <td>...</td>\n",
       "      <td>...</td>\n",
       "      <td>...</td>\n",
       "      <td>...</td>\n",
       "      <td>...</td>\n",
       "      <td>...</td>\n",
       "      <td>...</td>\n",
       "      <td>...</td>\n",
       "      <td>...</td>\n",
       "    </tr>\n",
       "    <tr>\n",
       "      <th>1054</th>\n",
       "      <td>36</td>\n",
       "      <td>13</td>\n",
       "      <td>40</td>\n",
       "      <td>0</td>\n",
       "      <td>1</td>\n",
       "      <td>0</td>\n",
       "      <td>0</td>\n",
       "      <td>0</td>\n",
       "      <td>0</td>\n",
       "      <td>1</td>\n",
       "    </tr>\n",
       "    <tr>\n",
       "      <th>43724</th>\n",
       "      <td>34</td>\n",
       "      <td>8</td>\n",
       "      <td>40</td>\n",
       "      <td>0</td>\n",
       "      <td>1</td>\n",
       "      <td>0</td>\n",
       "      <td>0</td>\n",
       "      <td>0</td>\n",
       "      <td>0</td>\n",
       "      <td>1</td>\n",
       "    </tr>\n",
       "    <tr>\n",
       "      <th>26241</th>\n",
       "      <td>34</td>\n",
       "      <td>12</td>\n",
       "      <td>40</td>\n",
       "      <td>0</td>\n",
       "      <td>0</td>\n",
       "      <td>0</td>\n",
       "      <td>0</td>\n",
       "      <td>0</td>\n",
       "      <td>0</td>\n",
       "      <td>1</td>\n",
       "    </tr>\n",
       "    <tr>\n",
       "      <th>32551</th>\n",
       "      <td>26</td>\n",
       "      <td>13</td>\n",
       "      <td>40</td>\n",
       "      <td>0</td>\n",
       "      <td>1</td>\n",
       "      <td>1</td>\n",
       "      <td>0</td>\n",
       "      <td>0</td>\n",
       "      <td>0</td>\n",
       "      <td>0</td>\n",
       "    </tr>\n",
       "    <tr>\n",
       "      <th>10451</th>\n",
       "      <td>27</td>\n",
       "      <td>13</td>\n",
       "      <td>40</td>\n",
       "      <td>0</td>\n",
       "      <td>0</td>\n",
       "      <td>1</td>\n",
       "      <td>0</td>\n",
       "      <td>0</td>\n",
       "      <td>0</td>\n",
       "      <td>0</td>\n",
       "    </tr>\n",
       "  </tbody>\n",
       "</table>\n",
       "<p>36826 rows × 10 columns</p>\n",
       "</div>"
      ],
      "text/plain": [
       "       age  education-num  hours-per-week  capital-gain  sex  REL-NotInFam  \\\n",
       "32402   51             10              50             0    1             0   \n",
       "27636   64             10              40             0    1             1   \n",
       "40047   54              6              40             0    1             0   \n",
       "31522   22             10              40             0    1             1   \n",
       "43982   27              9              40             0    1             0   \n",
       "...    ...            ...             ...           ...  ...           ...   \n",
       "1054    36             13              40             0    1             0   \n",
       "43724   34              8              40             0    1             0   \n",
       "26241   34             12              40             0    0             0   \n",
       "32551   26             13              40             0    1             1   \n",
       "10451   27             13              40             0    0             1   \n",
       "\n",
       "       REL-OtherRelat  REL-OwnChild  REL-Unmarr  REL-Spouse  \n",
       "32402               0             0           0           1  \n",
       "27636               0             0           0           0  \n",
       "40047               0             0           0           1  \n",
       "31522               0             0           0           0  \n",
       "43982               0             0           0           1  \n",
       "...               ...           ...         ...         ...  \n",
       "1054                0             0           0           1  \n",
       "43724               0             0           0           1  \n",
       "26241               0             0           0           1  \n",
       "32551               0             0           0           0  \n",
       "10451               0             0           0           0  \n",
       "\n",
       "[36826 rows x 10 columns]"
      ]
     },
     "execution_count": 14,
     "metadata": {},
     "output_type": "execute_result"
    }
   ],
   "source": [
    "X_train"
   ]
  },
  {
   "cell_type": "markdown",
   "metadata": {},
   "source": [
    ">> CAMINO B (X_train escalado)"
   ]
  },
  {
   "cell_type": "code",
   "execution_count": 15,
   "metadata": {},
   "outputs": [
    {
     "data": {
      "text/plain": [
       "array([[ 0.94297597, -0.05293484,  0.75881737, ..., -0.4133114 ,\n",
       "        -0.34588667,  1.08536733],\n",
       "       [ 1.92828153, -0.05293484, -0.07681231, ..., -0.4133114 ,\n",
       "        -0.34588667, -0.92134706],\n",
       "       [ 1.17035418, -1.61306164, -0.07681231, ..., -0.4133114 ,\n",
       "        -0.34588667,  1.08536733],\n",
       "       ...,\n",
       "       [-0.34550052,  0.72712856, -0.07681231, ..., -0.4133114 ,\n",
       "        -0.34588667,  1.08536733],\n",
       "       [-0.9518424 ,  1.11716026, -0.07681231, ..., -0.4133114 ,\n",
       "        -0.34588667, -0.92134706],\n",
       "       [-0.87604967,  1.11716026, -0.07681231, ..., -0.4133114 ,\n",
       "        -0.34588667, -0.92134706]])"
      ]
     },
     "execution_count": 15,
     "metadata": {},
     "output_type": "execute_result"
    }
   ],
   "source": [
    "STscaler = StandardScaler().fit(X_train)\n",
    "X_train_scaled = STscaler.transform(X_train)\n",
    "X_train_scaled"
   ]
  },
  {
   "cell_type": "markdown",
   "metadata": {},
   "source": [
    "## 4.2.4. Balancear los datos"
   ]
  },
  {
   "cell_type": "markdown",
   "metadata": {},
   "source": [
    "No hemos aplicado el proceso, a parte de la introducción de stratify en el split de train-test. En varios modelos, se puede balancear también el peso de los features. No hemos podido profundizar las diferencias con por ejemplo la apliación de SMOTE."
   ]
  },
  {
   "cell_type": "markdown",
   "metadata": {},
   "source": [
    "# **5. Entrenar algoritmos con data_proc**"
   ]
  },
  {
   "cell_type": "markdown",
   "metadata": {},
   "source": [
    "##  5.1. Varios modelos por separado "
   ]
  },
  {
   "cell_type": "markdown",
   "metadata": {},
   "source": [
    "Hacemos correr varios modelos de clasificación, cada uno por separado, según el camino A o B.\n",
    "\n",
    "Con alguna excepción (SVM y NB), para cada 'tipo modelo', hacemos correr una versión 'básica' (sin o con apenas unos parmámetros modificados), una variante (con algunos parámetros especificados) y también aplicamos un cross-validation. \n",
    "\n",
    "Los modelos tratados son:\n",
    "\n",
    "- Logistic Regression\n",
    "- SVM\n",
    "- K-Nearest Neighbour\n",
    "- Naive Bayes\n",
    "- Decision Tree\n",
    "- Ensambles:\n",
    "-- Voting Classifier  \n",
    "-- Bagging Classifier  \n",
    "-- Pasting Classifier  \n",
    "-- Random Forest  \n",
    "-- AdaBoostClassifier  \n",
    "-- GradientBoostClassifier  \n",
    "-- XGBoostClassifier  "
   ]
  },
  {
   "cell_type": "markdown",
   "metadata": {},
   "source": [
    "### **LOGISTIC REGRESSION - BASIC**"
   ]
  },
  {
   "cell_type": "code",
   "execution_count": 13,
   "metadata": {},
   "outputs": [
    {
     "data": {
      "text/plain": [
       "LogisticRegression()"
      ]
     },
     "execution_count": 13,
     "metadata": {},
     "output_type": "execute_result"
    }
   ],
   "source": [
    "logreg_bas = LogisticRegression()\n",
    "logreg_bas_trained = logreg_bas.fit(X_train_scaled, y_train)   #con X_train_scaled antes menos...\n",
    "logreg_bas_trained"
   ]
  },
  {
   "cell_type": "code",
   "execution_count": 14,
   "metadata": {},
   "outputs": [
    {
     "name": "stderr",
     "output_type": "stream",
     "text": [
      "C:\\Users\\piovr\\AppData\\Local\\Programs\\Python\\Python37\\lib\\site-packages\\sklearn\\base.py:444: UserWarning: X has feature names, but LogisticRegression was fitted without feature names\n",
      "  f\"X has feature names, but {self.__class__.__name__} was fitted without\"\n"
     ]
    }
   ],
   "source": [
    "y_pred = logreg_bas_trained.predict(X_test)"
   ]
  },
  {
   "cell_type": "code",
   "execution_count": 15,
   "metadata": {},
   "outputs": [
    {
     "name": "stdout",
     "output_type": "stream",
     "text": [
      "recall_score: 1.0\n",
      "f1_score: 0.39752850056566014\n",
      "classification report:               precision    recall  f1-score   support\n",
      "\n",
      "           0       0.00      0.00      0.00      6923\n",
      "           1       0.25      1.00      0.40      2284\n",
      "\n",
      "    accuracy                           0.25      9207\n",
      "   macro avg       0.12      0.50      0.20      9207\n",
      "weighted avg       0.06      0.25      0.10      9207\n",
      "\n",
      "roc_auc_score: 0.5\n",
      "[[   0 6923]\n",
      " [   0 2284]]\n"
     ]
    },
    {
     "name": "stderr",
     "output_type": "stream",
     "text": [
      "C:\\Users\\piovr\\AppData\\Local\\Programs\\Python\\Python37\\lib\\site-packages\\sklearn\\metrics\\_classification.py:1318: UndefinedMetricWarning: Precision and F-score are ill-defined and being set to 0.0 in labels with no predicted samples. Use `zero_division` parameter to control this behavior.\n",
      "  _warn_prf(average, modifier, msg_start, len(result))\n",
      "C:\\Users\\piovr\\AppData\\Local\\Programs\\Python\\Python37\\lib\\site-packages\\sklearn\\metrics\\_classification.py:1318: UndefinedMetricWarning: Precision and F-score are ill-defined and being set to 0.0 in labels with no predicted samples. Use `zero_division` parameter to control this behavior.\n",
      "  _warn_prf(average, modifier, msg_start, len(result))\n",
      "C:\\Users\\piovr\\AppData\\Local\\Programs\\Python\\Python37\\lib\\site-packages\\sklearn\\metrics\\_classification.py:1318: UndefinedMetricWarning: Precision and F-score are ill-defined and being set to 0.0 in labels with no predicted samples. Use `zero_division` parameter to control this behavior.\n",
      "  _warn_prf(average, modifier, msg_start, len(result))\n",
      "C:\\Users\\piovr\\AppData\\Local\\Programs\\Python\\Python37\\lib\\site-packages\\sklearn\\utils\\deprecation.py:87: FutureWarning: Function plot_confusion_matrix is deprecated; Function `plot_confusion_matrix` is deprecated in 1.0 and will be removed in 1.2. Use one of the class methods: ConfusionMatrixDisplay.from_predictions or ConfusionMatrixDisplay.from_estimator.\n",
      "  warnings.warn(msg, category=FutureWarning)\n",
      "C:\\Users\\piovr\\AppData\\Local\\Programs\\Python\\Python37\\lib\\site-packages\\sklearn\\base.py:444: UserWarning: X has feature names, but LogisticRegression was fitted without feature names\n",
      "  f\"X has feature names, but {self.__class__.__name__} was fitted without\"\n"
     ]
    },
    {
     "name": "stdout",
     "output_type": "stream",
     "text": [
      "confusion matrix: <sklearn.metrics._plot.confusion_matrix.ConfusionMatrixDisplay object at 0x000002153B1D9488>\n"
     ]
    },
    {
     "data": {
      "image/png": "[encoded data removed]",
      "text/plain": [
       "<Figure size 432x288 with 2 Axes>"
      ]
     },
     "metadata": {
      "needs_background": "light"
     },
     "output_type": "display_data"
    }
   ],
   "source": [
    "print(\"recall_score:\", recall_score(y_test,y_pred))\n",
    "print(\"f1_score:\", f1_score(y_test,y_pred))\n",
    "print(\"classification report:\", classification_report(y_test,y_pred))\n",
    "print(\"roc_auc_score:\", roc_auc_score(y_test,y_pred))\n",
    "print(confusion_matrix(y_test,y_pred))\n",
    "print(\"confusion matrix:\", plot_confusion_matrix(logreg_bas_trained,X_test,y_test))"
   ]
  },
  {
   "cell_type": "markdown",
   "metadata": {},
   "source": [
    "Nos da un resultado 'perfecto' de predicción en cuanto a recall, pero sospechamos fuertemente, al no poder predecir ningún '0'. No hemos podido profundizar en el por qué de este resultado. No lo tomamos en consideración como 'mejor modelo'."
   ]
  },
  {
   "cell_type": "markdown",
   "metadata": {},
   "source": [
    "### LOGREG - VAR1 - CLASS WEIGHT BALANCED"
   ]
  },
  {
   "cell_type": "code",
   "execution_count": 16,
   "metadata": {},
   "outputs": [
    {
     "name": "stderr",
     "output_type": "stream",
     "text": [
      "C:\\Users\\piovr\\AppData\\Local\\Programs\\Python\\Python37\\lib\\site-packages\\sklearn\\base.py:444: UserWarning: X has feature names, but LogisticRegression was fitted without feature names\n",
      "  f\"X has feature names, but {self.__class__.__name__} was fitted without\"\n"
     ]
    }
   ],
   "source": [
    "logreg_var1 = LogisticRegression(class_weight = \"balanced\")\n",
    "logreg_var1.fit(X_train_scaled,y_train)   #sin scaled no funciona\n",
    "y_pred = logreg_var1.predict(X_test)"
   ]
  },
  {
   "cell_type": "code",
   "execution_count": 17,
   "metadata": {},
   "outputs": [
    {
     "name": "stdout",
     "output_type": "stream",
     "text": [
      "0.24807211903986098\n",
      "0.39752850056566014\n",
      "              precision    recall  f1-score   support\n",
      "\n",
      "           0       0.00      0.00      0.00      6923\n",
      "           1       0.25      1.00      0.40      2284\n",
      "\n",
      "    accuracy                           0.25      9207\n",
      "   macro avg       0.12      0.50      0.20      9207\n",
      "weighted avg       0.06      0.25      0.10      9207\n",
      "\n",
      "0.5\n"
     ]
    },
    {
     "name": "stderr",
     "output_type": "stream",
     "text": [
      "C:\\Users\\piovr\\AppData\\Local\\Programs\\Python\\Python37\\lib\\site-packages\\sklearn\\metrics\\_classification.py:1318: UndefinedMetricWarning: Precision and F-score are ill-defined and being set to 0.0 in labels with no predicted samples. Use `zero_division` parameter to control this behavior.\n",
      "  _warn_prf(average, modifier, msg_start, len(result))\n",
      "C:\\Users\\piovr\\AppData\\Local\\Programs\\Python\\Python37\\lib\\site-packages\\sklearn\\metrics\\_classification.py:1318: UndefinedMetricWarning: Precision and F-score are ill-defined and being set to 0.0 in labels with no predicted samples. Use `zero_division` parameter to control this behavior.\n",
      "  _warn_prf(average, modifier, msg_start, len(result))\n",
      "C:\\Users\\piovr\\AppData\\Local\\Programs\\Python\\Python37\\lib\\site-packages\\sklearn\\metrics\\_classification.py:1318: UndefinedMetricWarning: Precision and F-score are ill-defined and being set to 0.0 in labels with no predicted samples. Use `zero_division` parameter to control this behavior.\n",
      "  _warn_prf(average, modifier, msg_start, len(result))\n",
      "C:\\Users\\piovr\\AppData\\Local\\Programs\\Python\\Python37\\lib\\site-packages\\sklearn\\utils\\deprecation.py:87: FutureWarning: Function plot_confusion_matrix is deprecated; Function `plot_confusion_matrix` is deprecated in 1.0 and will be removed in 1.2. Use one of the class methods: ConfusionMatrixDisplay.from_predictions or ConfusionMatrixDisplay.from_estimator.\n",
      "  warnings.warn(msg, category=FutureWarning)\n",
      "C:\\Users\\piovr\\AppData\\Local\\Programs\\Python\\Python37\\lib\\site-packages\\sklearn\\base.py:444: UserWarning: X has feature names, but LogisticRegression was fitted without feature names\n",
      "  f\"X has feature names, but {self.__class__.__name__} was fitted without\"\n"
     ]
    },
    {
     "name": "stdout",
     "output_type": "stream",
     "text": [
      "<sklearn.metrics._plot.confusion_matrix.ConfusionMatrixDisplay object at 0x000002153B3A0488>\n"
     ]
    },
    {
     "data": {
      "image/png": "[encoded data removed]",
      "text/plain": [
       "<Figure size 432x288 with 2 Axes>"
      ]
     },
     "metadata": {
      "needs_background": "light"
     },
     "output_type": "display_data"
    }
   ],
   "source": [
    "print(recall_score(y_pred,y_test))\n",
    "print(f1_score(y_pred,y_test))\n",
    "print(classification_report(y_test,y_pred))\n",
    "print(roc_auc_score(y_test,y_pred))\n",
    "print(plot_confusion_matrix(logreg_var1,X_test,y_test))"
   ]
  },
  {
   "cell_type": "markdown",
   "metadata": {},
   "source": [
    "### LOG REG - CV"
   ]
  },
  {
   "cell_type": "code",
   "execution_count": 18,
   "metadata": {},
   "outputs": [],
   "source": [
    "kfold = StratifiedKFold(n_splits=5)\n",
    "logreg_cv = LogisticRegression()\n",
    "cv_results = cross_val_score(logreg_cv, X_train_scaled,y_train,cv=kfold,scoring=\"recall\")\n",
    "#TOTAL LIMIT REACHED IF NOT WITH DATA SCALED!!!"
   ]
  },
  {
   "cell_type": "code",
   "execution_count": 19,
   "metadata": {},
   "outputs": [
    {
     "data": {
      "text/plain": [
       "0.5535161850147137"
      ]
     },
     "execution_count": 19,
     "metadata": {},
     "output_type": "execute_result"
    }
   ],
   "source": [
    "cv_results.mean()"
   ]
  },
  {
   "cell_type": "code",
   "execution_count": 20,
   "metadata": {},
   "outputs": [
    {
     "data": {
      "text/plain": [
       "0.016599789656872314"
      ]
     },
     "execution_count": 20,
     "metadata": {},
     "output_type": "execute_result"
    }
   ],
   "source": [
    "cv_results.std()"
   ]
  },
  {
   "cell_type": "markdown",
   "metadata": {},
   "source": [
    "### **SVM - BASIC**"
   ]
  },
  {
   "cell_type": "code",
   "execution_count": 21,
   "metadata": {},
   "outputs": [
    {
     "name": "stderr",
     "output_type": "stream",
     "text": [
      "C:\\Users\\piovr\\AppData\\Local\\Programs\\Python\\Python37\\lib\\site-packages\\sklearn\\base.py:444: UserWarning: X has feature names, but SVC was fitted without feature names\n",
      "  f\"X has feature names, but {self.__class__.__name__} was fitted without\"\n"
     ]
    }
   ],
   "source": [
    "svc_bas = SVC()\n",
    "svc_bas.fit(X_train_scaled,y_train)\n",
    "y_pred = svc_bas.predict(X_test)"
   ]
  },
  {
   "cell_type": "markdown",
   "metadata": {},
   "source": [
    "métricas:"
   ]
  },
  {
   "cell_type": "code",
   "execution_count": 22,
   "metadata": {},
   "outputs": [
    {
     "name": "stdout",
     "output_type": "stream",
     "text": [
      "0.0\n",
      "0.0\n",
      "              precision    recall  f1-score   support\n",
      "\n",
      "           0       0.75      1.00      0.86      6923\n",
      "           1       0.00      0.00      0.00      2284\n",
      "\n",
      "    accuracy                           0.75      9207\n",
      "   macro avg       0.38      0.50      0.43      9207\n",
      "weighted avg       0.57      0.75      0.65      9207\n",
      "\n",
      "0.5\n"
     ]
    },
    {
     "name": "stderr",
     "output_type": "stream",
     "text": [
      "C:\\Users\\piovr\\AppData\\Local\\Programs\\Python\\Python37\\lib\\site-packages\\sklearn\\metrics\\_classification.py:1318: UndefinedMetricWarning: Precision and F-score are ill-defined and being set to 0.0 in labels with no predicted samples. Use `zero_division` parameter to control this behavior.\n",
      "  _warn_prf(average, modifier, msg_start, len(result))\n",
      "C:\\Users\\piovr\\AppData\\Local\\Programs\\Python\\Python37\\lib\\site-packages\\sklearn\\metrics\\_classification.py:1318: UndefinedMetricWarning: Precision and F-score are ill-defined and being set to 0.0 in labels with no predicted samples. Use `zero_division` parameter to control this behavior.\n",
      "  _warn_prf(average, modifier, msg_start, len(result))\n",
      "C:\\Users\\piovr\\AppData\\Local\\Programs\\Python\\Python37\\lib\\site-packages\\sklearn\\metrics\\_classification.py:1318: UndefinedMetricWarning: Precision and F-score are ill-defined and being set to 0.0 in labels with no predicted samples. Use `zero_division` parameter to control this behavior.\n",
      "  _warn_prf(average, modifier, msg_start, len(result))\n",
      "C:\\Users\\piovr\\AppData\\Local\\Programs\\Python\\Python37\\lib\\site-packages\\sklearn\\utils\\deprecation.py:87: FutureWarning: Function plot_confusion_matrix is deprecated; Function `plot_confusion_matrix` is deprecated in 1.0 and will be removed in 1.2. Use one of the class methods: ConfusionMatrixDisplay.from_predictions or ConfusionMatrixDisplay.from_estimator.\n",
      "  warnings.warn(msg, category=FutureWarning)\n",
      "C:\\Users\\piovr\\AppData\\Local\\Programs\\Python\\Python37\\lib\\site-packages\\sklearn\\base.py:444: UserWarning: X has feature names, but SVC was fitted without feature names\n",
      "  f\"X has feature names, but {self.__class__.__name__} was fitted without\"\n"
     ]
    },
    {
     "name": "stdout",
     "output_type": "stream",
     "text": [
      "<sklearn.metrics._plot.confusion_matrix.ConfusionMatrixDisplay object at 0x000002153C275608>\n"
     ]
    },
    {
     "data": {
      "image/png": "[encoded data removed]",
      "text/plain": [
       "<Figure size 432x288 with 2 Axes>"
      ]
     },
     "metadata": {
      "needs_background": "light"
     },
     "output_type": "display_data"
    }
   ],
   "source": [
    "print(recall_score(y_test,y_pred))\n",
    "print(f1_score(y_test,y_pred))\n",
    "print(classification_report(y_test,y_pred))\n",
    "print(roc_auc_score(y_test,y_pred))\n",
    "print(plot_confusion_matrix(svc_bas,X_test,y_test))"
   ]
  },
  {
   "cell_type": "markdown",
   "metadata": {},
   "source": [
    "Aquí también un resultado muy extraño. No hemos podido profundizar."
   ]
  },
  {
   "cell_type": "markdown",
   "metadata": {},
   "source": [
    "### LinearSVM bas"
   ]
  },
  {
   "cell_type": "code",
   "execution_count": 23,
   "metadata": {},
   "outputs": [
    {
     "name": "stderr",
     "output_type": "stream",
     "text": [
      "C:\\Users\\piovr\\AppData\\Local\\Programs\\Python\\Python37\\lib\\site-packages\\sklearn\\svm\\_base.py:1208: ConvergenceWarning: Liblinear failed to converge, increase the number of iterations.\n",
      "  ConvergenceWarning,\n",
      "C:\\Users\\piovr\\AppData\\Local\\Programs\\Python\\Python37\\lib\\site-packages\\sklearn\\base.py:444: UserWarning: X has feature names, but LinearSVC was fitted without feature names\n",
      "  f\"X has feature names, but {self.__class__.__name__} was fitted without\"\n"
     ]
    }
   ],
   "source": [
    "svc_lineal_clas = LinearSVC()\n",
    "svc_lineal_clas.fit(X_train_scaled,y_train)\n",
    "y_pred = svc_lineal_clas.predict(X_test)"
   ]
  },
  {
   "cell_type": "code",
   "execution_count": 24,
   "metadata": {},
   "outputs": [
    {
     "name": "stdout",
     "output_type": "stream",
     "text": [
      "recall: 1.0\n",
      "0.39752850056566014\n",
      "              precision    recall  f1-score   support\n",
      "\n",
      "           0       0.00      0.00      0.00      6923\n",
      "           1       0.25      1.00      0.40      2284\n",
      "\n",
      "    accuracy                           0.25      9207\n",
      "   macro avg       0.12      0.50      0.20      9207\n",
      "weighted avg       0.06      0.25      0.10      9207\n",
      "\n",
      "0.5\n"
     ]
    },
    {
     "name": "stderr",
     "output_type": "stream",
     "text": [
      "C:\\Users\\piovr\\AppData\\Local\\Programs\\Python\\Python37\\lib\\site-packages\\sklearn\\metrics\\_classification.py:1318: UndefinedMetricWarning: Precision and F-score are ill-defined and being set to 0.0 in labels with no predicted samples. Use `zero_division` parameter to control this behavior.\n",
      "  _warn_prf(average, modifier, msg_start, len(result))\n",
      "C:\\Users\\piovr\\AppData\\Local\\Programs\\Python\\Python37\\lib\\site-packages\\sklearn\\metrics\\_classification.py:1318: UndefinedMetricWarning: Precision and F-score are ill-defined and being set to 0.0 in labels with no predicted samples. Use `zero_division` parameter to control this behavior.\n",
      "  _warn_prf(average, modifier, msg_start, len(result))\n",
      "C:\\Users\\piovr\\AppData\\Local\\Programs\\Python\\Python37\\lib\\site-packages\\sklearn\\metrics\\_classification.py:1318: UndefinedMetricWarning: Precision and F-score are ill-defined and being set to 0.0 in labels with no predicted samples. Use `zero_division` parameter to control this behavior.\n",
      "  _warn_prf(average, modifier, msg_start, len(result))\n",
      "C:\\Users\\piovr\\AppData\\Local\\Programs\\Python\\Python37\\lib\\site-packages\\sklearn\\utils\\deprecation.py:87: FutureWarning: Function plot_confusion_matrix is deprecated; Function `plot_confusion_matrix` is deprecated in 1.0 and will be removed in 1.2. Use one of the class methods: ConfusionMatrixDisplay.from_predictions or ConfusionMatrixDisplay.from_estimator.\n",
      "  warnings.warn(msg, category=FutureWarning)\n",
      "C:\\Users\\piovr\\AppData\\Local\\Programs\\Python\\Python37\\lib\\site-packages\\sklearn\\base.py:444: UserWarning: X has feature names, but LinearSVC was fitted without feature names\n",
      "  f\"X has feature names, but {self.__class__.__name__} was fitted without\"\n"
     ]
    },
    {
     "name": "stdout",
     "output_type": "stream",
     "text": [
      "<sklearn.metrics._plot.confusion_matrix.ConfusionMatrixDisplay object at 0x000002153B363A48>\n"
     ]
    },
    {
     "data": {
      "image/png": "[encoded data removed]",
      "text/plain": [
       "<Figure size 432x288 with 2 Axes>"
      ]
     },
     "metadata": {
      "needs_background": "light"
     },
     "output_type": "display_data"
    }
   ],
   "source": [
    "print(\"recall:\", recall_score(y_test,y_pred))\n",
    "print(f1_score(y_test,y_pred))\n",
    "print(classification_report(y_test,y_pred))\n",
    "print(roc_auc_score(y_test,y_pred))\n",
    "print(plot_confusion_matrix(svc_lineal_clas,X_test, y_test))"
   ]
  },
  {
   "cell_type": "markdown",
   "metadata": {},
   "source": [
    "Nuevamente, resultado poco fiable, parece..."
   ]
  },
  {
   "cell_type": "markdown",
   "metadata": {},
   "source": [
    "### SVM - VAR1-kernel+balanceado+regularizado   &    VAR2-kernelpoly"
   ]
  },
  {
   "cell_type": "code",
   "execution_count": 25,
   "metadata": {},
   "outputs": [],
   "source": [
    "#svc_var1 = SVC(kernel = \"rbf\", class_weight=\"balanced\",C = 5)   #C=2/3 0.32,0.59\n",
    "#svc_var1.fit(X_train_scaled,y_train)\n",
    "#y_pred = svc_var1.predict(X_test)"
   ]
  },
  {
   "cell_type": "code",
   "execution_count": 1,
   "metadata": {},
   "outputs": [],
   "source": [
    "#print(recall_score(y_test,y_pred))\n",
    "#print(f1_score(y_test,y_pred))\n",
    "#print(classification_report(y_test,y_pred))\n",
    "#print(roc_auc_score(y_test,y_pred))\n",
    "#print(plot_confusion_matrix(svc_var1,X_test,y_test))"
   ]
  },
  {
   "cell_type": "markdown",
   "metadata": {},
   "source": [
    "Mismo problema...: recall de 100% (y 0% para predecir la clase < 50.000 dolares)"
   ]
  },
  {
   "cell_type": "code",
   "execution_count": 2,
   "metadata": {},
   "outputs": [],
   "source": [
    "#ultimo recorrido: demasiado tiempo y antes no mejoría resultado => bloqueado para nuevas ejecuciones\n",
    "#svc_var2_poly = SVC(kernel = \"poly\", class_weight=\"balanced\", C= 100)     #1,5,10,100\n",
    "#svc_var2_poly.fit(X_train_scaled,y_train)\n",
    "#y_pred = svc_var2_poly.predict(X_test)"
   ]
  },
  {
   "cell_type": "code",
   "execution_count": 3,
   "metadata": {},
   "outputs": [],
   "source": [
    "#print(recall_score(y_test,y_pred))\n",
    "#print(f1_score(y_test,y_pred))\n",
    "#print(classification_report(y_test,y_pred))\n",
    "#print(roc_auc_score(y_test,y_pred))\n",
    "#print(plot_confusion_matrix(svc_var2_poly,X_test,y_test))"
   ]
  },
  {
   "cell_type": "markdown",
   "metadata": {},
   "source": [
    "value of gamma can also be adapted"
   ]
  },
  {
   "cell_type": "markdown",
   "metadata": {},
   "source": [
    "### **KNN** - básico"
   ]
  },
  {
   "cell_type": "code",
   "execution_count": 4,
   "metadata": {},
   "outputs": [
    {
     "ename": "NameError",
     "evalue": "name 'KNeighborsClassifier' is not defined",
     "output_type": "error",
     "traceback": [
      "\u001b[1;31m---------------------------------------------------------------------------\u001b[0m",
      "\u001b[1;31mNameError\u001b[0m                                 Traceback (most recent call last)",
      "\u001b[1;32m~\\AppData\\Local\\Temp\\ipykernel_2056\\2093700493.py\u001b[0m in \u001b[0;36m<module>\u001b[1;34m\u001b[0m\n\u001b[1;32m----> 1\u001b[1;33m \u001b[0mknn_bas\u001b[0m \u001b[1;33m=\u001b[0m \u001b[0mKNeighborsClassifier\u001b[0m\u001b[1;33m(\u001b[0m\u001b[1;33m)\u001b[0m\u001b[1;33m\u001b[0m\u001b[1;33m\u001b[0m\u001b[0m\n\u001b[0m\u001b[0;32m      2\u001b[0m \u001b[0mknn_bas\u001b[0m\u001b[1;33m.\u001b[0m\u001b[0mfit\u001b[0m\u001b[1;33m(\u001b[0m\u001b[0mX_train_scaled\u001b[0m\u001b[1;33m,\u001b[0m\u001b[0my_train\u001b[0m\u001b[1;33m)\u001b[0m   \u001b[1;31m#con scaled solo 0.229 recall\u001b[0m\u001b[1;33m\u001b[0m\u001b[1;33m\u001b[0m\u001b[0m\n\u001b[0;32m      3\u001b[0m \u001b[0my_pred\u001b[0m \u001b[1;33m=\u001b[0m \u001b[0mknn_bas\u001b[0m\u001b[1;33m.\u001b[0m\u001b[0mpredict\u001b[0m\u001b[1;33m(\u001b[0m\u001b[0mX_test\u001b[0m\u001b[1;33m)\u001b[0m\u001b[1;33m\u001b[0m\u001b[1;33m\u001b[0m\u001b[0m\n",
      "\u001b[1;31mNameError\u001b[0m: name 'KNeighborsClassifier' is not defined"
     ]
    }
   ],
   "source": [
    "knn_bas = KNeighborsClassifier()\n",
    "knn_bas.fit(X_train_scaled,y_train)   #con scaled solo 0.229 recall\n",
    "y_pred = knn_bas.predict(X_test)"
   ]
  },
  {
   "cell_type": "code",
   "execution_count": null,
   "metadata": {},
   "outputs": [
    {
     "name": "stdout",
     "output_type": "stream",
     "text": [
      "recall: 0.32428884026258203\n",
      "0.40781507980187126\n",
      "              precision    recall  f1-score   support\n",
      "\n",
      "           0       0.80      0.91      0.85      6922\n",
      "           1       0.55      0.32      0.41      2285\n",
      "\n",
      "    accuracy                           0.77      9207\n",
      "   macro avg       0.68      0.62      0.63      9207\n",
      "weighted avg       0.74      0.77      0.74      9207\n",
      "\n",
      "0.6182264773401902\n"
     ]
    },
    {
     "name": "stderr",
     "output_type": "stream",
     "text": [
      "C:\\Users\\piovr\\AppData\\Local\\Programs\\Python\\Python37\\lib\\site-packages\\sklearn\\utils\\deprecation.py:87: FutureWarning: Function plot_confusion_matrix is deprecated; Function `plot_confusion_matrix` is deprecated in 1.0 and will be removed in 1.2. Use one of the class methods: ConfusionMatrixDisplay.from_predictions or ConfusionMatrixDisplay.from_estimator.\n",
      "  warnings.warn(msg, category=FutureWarning)\n"
     ]
    },
    {
     "name": "stdout",
     "output_type": "stream",
     "text": [
      "<sklearn.metrics._plot.confusion_matrix.ConfusionMatrixDisplay object at 0x000001CC699B1688>\n"
     ]
    },
    {
     "data": {
      "image/png": "[encoded data removed]",
      "text/plain": [
       "<Figure size 432x288 with 2 Axes>"
      ]
     },
     "metadata": {
      "needs_background": "light"
     },
     "output_type": "display_data"
    }
   ],
   "source": [
    "print(\"recall:\", recall_score(y_test,y_pred))\n",
    "print(f1_score(y_test,y_pred))\n",
    "print(classification_report(y_test,y_pred))\n",
    "print(roc_auc_score(y_test,y_pred))\n",
    "print(plot_confusion_matrix(knn_bas,X_test, y_test))"
   ]
  },
  {
   "cell_type": "markdown",
   "metadata": {},
   "source": [
    "### KNN - neighbors"
   ]
  },
  {
   "cell_type": "code",
   "execution_count": 16,
   "metadata": {},
   "outputs": [
    {
     "name": "stderr",
     "output_type": "stream",
     "text": [
      "C:\\Users\\piovr\\AppData\\Local\\Programs\\Python\\Python37\\lib\\site-packages\\sklearn\\base.py:444: UserWarning: X has feature names, but KNeighborsClassifier was fitted without feature names\n",
      "  f\"X has feature names, but {self.__class__.__name__} was fitted without\"\n"
     ]
    }
   ],
   "source": [
    "knn_vec = KNeighborsClassifier(n_neighbors=7)    #mejor entre 2-8\n",
    "knn_vec.fit(X_train_scaled,y_train)\n",
    "y_pred = knn_vec.predict(X_test)"
   ]
  },
  {
   "cell_type": "code",
   "execution_count": 17,
   "metadata": {},
   "outputs": [
    {
     "name": "stdout",
     "output_type": "stream",
     "text": [
      "recall score: 0.21541155866900175\n",
      "0.3194805194805194\n",
      "              precision    recall  f1-score   support\n",
      "\n",
      "           0       0.79      0.96      0.86      6923\n",
      "           1       0.62      0.22      0.32      2284\n",
      "\n",
      "    accuracy                           0.77      9207\n",
      "   macro avg       0.70      0.59      0.59      9207\n",
      "weighted avg       0.75      0.77      0.73      9207\n",
      "\n",
      "0.5857499798256174\n"
     ]
    },
    {
     "name": "stderr",
     "output_type": "stream",
     "text": [
      "C:\\Users\\piovr\\AppData\\Local\\Programs\\Python\\Python37\\lib\\site-packages\\sklearn\\utils\\deprecation.py:87: FutureWarning: Function plot_confusion_matrix is deprecated; Function `plot_confusion_matrix` is deprecated in 1.0 and will be removed in 1.2. Use one of the class methods: ConfusionMatrixDisplay.from_predictions or ConfusionMatrixDisplay.from_estimator.\n",
      "  warnings.warn(msg, category=FutureWarning)\n",
      "C:\\Users\\piovr\\AppData\\Local\\Programs\\Python\\Python37\\lib\\site-packages\\sklearn\\base.py:444: UserWarning: X has feature names, but KNeighborsClassifier was fitted without feature names\n",
      "  f\"X has feature names, but {self.__class__.__name__} was fitted without\"\n"
     ]
    },
    {
     "name": "stdout",
     "output_type": "stream",
     "text": [
      "<sklearn.metrics._plot.confusion_matrix.ConfusionMatrixDisplay object at 0x0000024879A8AB88>\n"
     ]
    },
    {
     "data": {
      "image/png": "[encoded data removed]",
      "text/plain": [
       "<Figure size 432x288 with 2 Axes>"
      ]
     },
     "metadata": {
      "needs_background": "light"
     },
     "output_type": "display_data"
    }
   ],
   "source": [
    "print(\"recall score:\", recall_score(y_test,y_pred))\n",
    "print(f1_score(y_test,y_pred))\n",
    "print(classification_report(y_test,y_pred))\n",
    "print(roc_auc_score(y_test,y_pred))\n",
    "print(plot_confusion_matrix(knn_vec,X_test,y_test))"
   ]
  },
  {
   "cell_type": "markdown",
   "metadata": {},
   "source": [
    "## KNN + CV"
   ]
  },
  {
   "cell_type": "code",
   "execution_count": 18,
   "metadata": {},
   "outputs": [],
   "source": [
    "kfold = StratifiedKFold(n_splits=5) \n",
    "modelo_knn_cv = KNeighborsClassifier()  #no importa 7/9\n",
    "cv_results = cross_val_score(modelo_knn_cv, X_train_scaled,y_train,cv=kfold,scoring=\"recall\")"
   ]
  },
  {
   "cell_type": "code",
   "execution_count": 19,
   "metadata": {},
   "outputs": [
    {
     "data": {
      "text/plain": [
       "0.5708052324780613"
      ]
     },
     "execution_count": 19,
     "metadata": {},
     "output_type": "execute_result"
    }
   ],
   "source": [
    "cv_results.mean()"
   ]
  },
  {
   "cell_type": "code",
   "execution_count": 20,
   "metadata": {},
   "outputs": [
    {
     "data": {
      "text/plain": [
       "0.017751666484991158"
      ]
     },
     "execution_count": 20,
     "metadata": {},
     "output_type": "execute_result"
    }
   ],
   "source": [
    "cv_results.std()"
   ]
  },
  {
   "cell_type": "markdown",
   "metadata": {},
   "source": [
    "## NAIVE BAYES - Base"
   ]
  },
  {
   "cell_type": "markdown",
   "metadata": {},
   "source": [
    "KOHAVI:  \n",
    "requiere strong independence relations  \n",
    "robust concerning irrelevant data: useful in cases where there are no attributes with a main effect"
   ]
  },
  {
   "cell_type": "code",
   "execution_count": 21,
   "metadata": {},
   "outputs": [],
   "source": [
    "nb_bas = GaussianNB()\n",
    "nb_bas.fit(X_train,y_train)    #con scaled solo 0.22\n",
    "y_pred = nb_bas.predict(X_test)"
   ]
  },
  {
   "cell_type": "code",
   "execution_count": 22,
   "metadata": {},
   "outputs": [
    {
     "name": "stdout",
     "output_type": "stream",
     "text": [
      "recall score: 0.47723292469352013\n",
      "0.5747429475349328\n",
      "              precision    recall  f1-score   support\n",
      "\n",
      "           0       0.84      0.94      0.89      6923\n",
      "           1       0.72      0.48      0.57      2284\n",
      "\n",
      "    accuracy                           0.82      9207\n",
      "   macro avg       0.78      0.71      0.73      9207\n",
      "weighted avg       0.81      0.82      0.81      9207\n",
      "\n",
      "0.7083550149973451\n"
     ]
    },
    {
     "name": "stderr",
     "output_type": "stream",
     "text": [
      "C:\\Users\\piovr\\AppData\\Local\\Programs\\Python\\Python37\\lib\\site-packages\\sklearn\\utils\\deprecation.py:87: FutureWarning: Function plot_confusion_matrix is deprecated; Function `plot_confusion_matrix` is deprecated in 1.0 and will be removed in 1.2. Use one of the class methods: ConfusionMatrixDisplay.from_predictions or ConfusionMatrixDisplay.from_estimator.\n",
      "  warnings.warn(msg, category=FutureWarning)\n"
     ]
    },
    {
     "name": "stdout",
     "output_type": "stream",
     "text": [
      "<sklearn.metrics._plot.confusion_matrix.ConfusionMatrixDisplay object at 0x000002487A058608>\n"
     ]
    },
    {
     "data": {
      "image/png": "[encoded data removed]",
      "text/plain": [
       "<Figure size 432x288 with 2 Axes>"
      ]
     },
     "metadata": {
      "needs_background": "light"
     },
     "output_type": "display_data"
    }
   ],
   "source": [
    "print(\"recall score:\", recall_score(y_test, y_pred))\n",
    "print(f1_score(y_test,y_pred))\n",
    "print(classification_report(y_test,y_pred))\n",
    "print(roc_auc_score(y_test,y_pred))\n",
    "print(plot_confusion_matrix(nb_bas,X_test,y_test))"
   ]
  },
  {
   "cell_type": "markdown",
   "metadata": {},
   "source": [
    "### NAIVE BAYES - sin variante"
   ]
  },
  {
   "cell_type": "code",
   "execution_count": 23,
   "metadata": {},
   "outputs": [],
   "source": [
    "#nb_var1= GaussianNB()  #priors?, var_smoothing?\n",
    "#nb_var1.fit(X_train,y_train)\n",
    "#y_pred = nb_var1.predict(X_test)"
   ]
  },
  {
   "cell_type": "code",
   "execution_count": 24,
   "metadata": {},
   "outputs": [],
   "source": [
    "#print(recall_score(y_test,y_pred))\n",
    "#print(f1_score(y_test,y_pred))\n",
    "#p<rint(classification_report(y_test,y_pred))\n",
    "#print(roc_auc_score(y_test,y_pred))\n",
    "#print(plot_confusion_matrix(nb_var1, X_test,y_test))"
   ]
  },
  {
   "cell_type": "markdown",
   "metadata": {},
   "source": [
    "## **DECISION TREE**"
   ]
  },
  {
   "cell_type": "code",
   "execution_count": 25,
   "metadata": {},
   "outputs": [],
   "source": [
    "tree = DecisionTreeClassifier()\n",
    "tree.fit(X_train,y_train)\n",
    "y_pred = tree.predict(X_test)"
   ]
  },
  {
   "cell_type": "code",
   "execution_count": 26,
   "metadata": {},
   "outputs": [
    {
     "name": "stdout",
     "output_type": "stream",
     "text": [
      "0.5774956217162872\n",
      "0.6263057929724597\n",
      "              precision    recall  f1-score   support\n",
      "\n",
      "           0       0.87      0.91      0.89      6923\n",
      "           1       0.68      0.58      0.63      2284\n",
      "\n",
      "    accuracy                           0.83      9207\n",
      "   macro avg       0.78      0.74      0.76      9207\n",
      "weighted avg       0.82      0.83      0.82      9207\n",
      "\n",
      "0.7447639888156764\n"
     ]
    },
    {
     "name": "stderr",
     "output_type": "stream",
     "text": [
      "C:\\Users\\piovr\\AppData\\Local\\Programs\\Python\\Python37\\lib\\site-packages\\sklearn\\utils\\deprecation.py:87: FutureWarning: Function plot_confusion_matrix is deprecated; Function `plot_confusion_matrix` is deprecated in 1.0 and will be removed in 1.2. Use one of the class methods: ConfusionMatrixDisplay.from_predictions or ConfusionMatrixDisplay.from_estimator.\n",
      "  warnings.warn(msg, category=FutureWarning)\n"
     ]
    },
    {
     "name": "stdout",
     "output_type": "stream",
     "text": [
      "<sklearn.metrics._plot.confusion_matrix.ConfusionMatrixDisplay object at 0x000002487A123C08>\n"
     ]
    },
    {
     "data": {
      "image/png": "[encoded data removed]",
      "text/plain": [
       "<Figure size 432x288 with 2 Axes>"
      ]
     },
     "metadata": {
      "needs_background": "light"
     },
     "output_type": "display_data"
    }
   ],
   "source": [
    "print(recall_score(y_test,y_pred))\n",
    "print(f1_score(y_test,y_pred))\n",
    "print(classification_report(y_test,y_pred))\n",
    "print(roc_auc_score(y_test,y_pred))\n",
    "print(plot_confusion_matrix(tree,X_test,y_test))"
   ]
  },
  {
   "cell_type": "markdown",
   "metadata": {},
   "source": [
    "### DECISION TREE - CLass weight, maxdepth"
   ]
  },
  {
   "cell_type": "code",
   "execution_count": 27,
   "metadata": {},
   "outputs": [],
   "source": [
    "tree_var1 = DecisionTreeClassifier(class_weight=\"balanced\", max_depth = 4, random_state=35)   #entre 3-4\n",
    "tree_var1.fit(X_train,y_train)\n",
    "y_pred = tree_var1.predict(X_test)"
   ]
  },
  {
   "cell_type": "code",
   "execution_count": 28,
   "metadata": {},
   "outputs": [
    {
     "name": "stdout",
     "output_type": "stream",
     "text": [
      "0.8690893169877408\n",
      "0.6451088722781929\n",
      "              precision    recall  f1-score   support\n",
      "\n",
      "           0       0.94      0.73      0.82      6923\n",
      "           1       0.51      0.87      0.65      2284\n",
      "\n",
      "    accuracy                           0.76      9207\n",
      "   macro avg       0.73      0.80      0.73      9207\n",
      "weighted avg       0.84      0.76      0.78      9207\n",
      "\n",
      "0.7984042569338531\n"
     ]
    },
    {
     "name": "stderr",
     "output_type": "stream",
     "text": [
      "C:\\Users\\piovr\\AppData\\Local\\Programs\\Python\\Python37\\lib\\site-packages\\sklearn\\utils\\deprecation.py:87: FutureWarning: Function plot_confusion_matrix is deprecated; Function `plot_confusion_matrix` is deprecated in 1.0 and will be removed in 1.2. Use one of the class methods: ConfusionMatrixDisplay.from_predictions or ConfusionMatrixDisplay.from_estimator.\n",
      "  warnings.warn(msg, category=FutureWarning)\n"
     ]
    },
    {
     "name": "stdout",
     "output_type": "stream",
     "text": [
      "<sklearn.metrics._plot.confusion_matrix.ConfusionMatrixDisplay object at 0x000002487A09AA48>\n"
     ]
    },
    {
     "data": {
      "image/png": "[encoded data removed]",
      "text/plain": [
       "<Figure size 432x288 with 2 Axes>"
      ]
     },
     "metadata": {
      "needs_background": "light"
     },
     "output_type": "display_data"
    }
   ],
   "source": [
    "print(recall_score(y_test,y_pred))\n",
    "print(f1_score(y_test,y_pred))\n",
    "print(classification_report(y_test,y_pred))\n",
    "print(roc_auc_score(y_test,y_pred))\n",
    "print(plot_confusion_matrix(tree_var1,X_test,y_test))"
   ]
  },
  {
   "cell_type": "markdown",
   "metadata": {},
   "source": [
    "## DECISION TREE + CV"
   ]
  },
  {
   "cell_type": "code",
   "execution_count": 29,
   "metadata": {},
   "outputs": [],
   "source": [
    "kfold = KFold(n_splits=5)   #stratified hace bajar ligeramente 0.04 pero luego KFold igual..\n",
    "dec_tree_cv = DecisionTreeClassifier(class_weight=\"balanced\", max_depth = 4, random_state=35) \n",
    "cv_results = cross_val_score(dec_tree_cv, X_train,y_train,cv=kfold,scoring=\"recall\")"
   ]
  },
  {
   "cell_type": "code",
   "execution_count": null,
   "metadata": {},
   "outputs": [
    {
     "data": {
      "text/plain": [
       "0.8696737459030007"
      ]
     },
     "execution_count": 178,
     "metadata": {},
     "output_type": "execute_result"
    }
   ],
   "source": [
    "cv_results.mean()"
   ]
  },
  {
   "cell_type": "code",
   "execution_count": 30,
   "metadata": {},
   "outputs": [
    {
     "data": {
      "text/plain": [
       "0.00916443423035975"
      ]
     },
     "execution_count": 30,
     "metadata": {},
     "output_type": "execute_result"
    }
   ],
   "source": [
    "cv_results.std()"
   ]
  },
  {
   "cell_type": "markdown",
   "metadata": {},
   "source": [
    "## **ENSAMBLES**"
   ]
  },
  {
   "cell_type": "markdown",
   "metadata": {},
   "source": [
    "## VOTING CLASSIFIER - BAS"
   ]
  },
  {
   "cell_type": "code",
   "execution_count": 32,
   "metadata": {},
   "outputs": [],
   "source": [
    "models = [('DecTree',DecisionTreeClassifier()),('KNN',KNeighborsClassifier())]\n",
    "vot_clas = VotingClassifier(estimators=models)\n",
    "vot_clas.fit(X_train,y_train)\n",
    "y_pred = vot_clas.predict(X_test)"
   ]
  },
  {
   "cell_type": "code",
   "execution_count": 33,
   "metadata": {},
   "outputs": [
    {
     "name": "stdout",
     "output_type": "stream",
     "text": [
      "RECALL SCORE =  0.5030647985989493\n",
      "0.6063324538258577\n",
      "              precision    recall  f1-score   support\n",
      "\n",
      "           0       0.85      0.95      0.90      6923\n",
      "           1       0.76      0.50      0.61      2284\n",
      "\n",
      "    accuracy                           0.84      9207\n",
      "   macro avg       0.81      0.73      0.75      9207\n",
      "weighted avg       0.83      0.84      0.83      9207\n",
      "\n",
      "0.7257487794814768\n"
     ]
    },
    {
     "name": "stderr",
     "output_type": "stream",
     "text": [
      "C:\\Users\\piovr\\AppData\\Local\\Programs\\Python\\Python37\\lib\\site-packages\\sklearn\\utils\\deprecation.py:87: FutureWarning: Function plot_confusion_matrix is deprecated; Function `plot_confusion_matrix` is deprecated in 1.0 and will be removed in 1.2. Use one of the class methods: ConfusionMatrixDisplay.from_predictions or ConfusionMatrixDisplay.from_estimator.\n",
      "  warnings.warn(msg, category=FutureWarning)\n"
     ]
    },
    {
     "name": "stdout",
     "output_type": "stream",
     "text": [
      "<sklearn.metrics._plot.confusion_matrix.ConfusionMatrixDisplay object at 0x000002487E478DC8>\n"
     ]
    },
    {
     "data": {
      "image/png": "[encoded data removed]",
      "text/plain": [
       "<Figure size 432x288 with 2 Axes>"
      ]
     },
     "metadata": {
      "needs_background": "light"
     },
     "output_type": "display_data"
    }
   ],
   "source": [
    "print(\"RECALL SCORE = \", recall_score(y_test,y_pred))\n",
    "print(f1_score(y_test,y_pred))\n",
    "print(classification_report(y_test,y_pred))\n",
    "print(roc_auc_score(y_test,y_pred))\n",
    "print(plot_confusion_matrix(vot_clas,X_test,y_test))"
   ]
  },
  {
   "cell_type": "markdown",
   "metadata": {},
   "source": [
    "## VOTING CLASSIFIER - VAR"
   ]
  },
  {
   "cell_type": "code",
   "execution_count": 34,
   "metadata": {},
   "outputs": [],
   "source": [
    "models = [('DecTree',DecisionTreeClassifier()),('KNN',KNeighborsClassifier())]\n",
    "vot_clas = VotingClassifier(estimators=models, voting = \"soft\")\n",
    "vot_clas.fit(X_train,y_train)\n",
    "y_pred = vot_clas.predict(X_test)"
   ]
  },
  {
   "cell_type": "code",
   "execution_count": 35,
   "metadata": {},
   "outputs": [
    {
     "name": "stdout",
     "output_type": "stream",
     "text": [
      "RECALL SCORE =  0.5980735551663747\n",
      "0.6437323279924599\n",
      "              precision    recall  f1-score   support\n",
      "\n",
      "           0       0.87      0.91      0.89      6923\n",
      "           1       0.70      0.60      0.64      2284\n",
      "\n",
      "    accuracy                           0.84      9207\n",
      "   macro avg       0.79      0.76      0.77      9207\n",
      "weighted avg       0.83      0.84      0.83      9207\n",
      "\n",
      "0.7561363009112244\n"
     ]
    },
    {
     "name": "stderr",
     "output_type": "stream",
     "text": [
      "C:\\Users\\piovr\\AppData\\Local\\Programs\\Python\\Python37\\lib\\site-packages\\sklearn\\utils\\deprecation.py:87: FutureWarning: Function plot_confusion_matrix is deprecated; Function `plot_confusion_matrix` is deprecated in 1.0 and will be removed in 1.2. Use one of the class methods: ConfusionMatrixDisplay.from_predictions or ConfusionMatrixDisplay.from_estimator.\n",
      "  warnings.warn(msg, category=FutureWarning)\n"
     ]
    },
    {
     "name": "stdout",
     "output_type": "stream",
     "text": [
      "<sklearn.metrics._plot.confusion_matrix.ConfusionMatrixDisplay object at 0x000002487E7C9C08>\n"
     ]
    },
    {
     "data": {
      "image/png": "[encoded data removed]",
      "text/plain": [
       "<Figure size 432x288 with 2 Axes>"
      ]
     },
     "metadata": {
      "needs_background": "light"
     },
     "output_type": "display_data"
    }
   ],
   "source": [
    "print(\"RECALL SCORE = \", recall_score(y_test,y_pred))\n",
    "print(f1_score(y_test,y_pred))\n",
    "print(classification_report(y_test,y_pred))\n",
    "print(roc_auc_score(y_test,y_pred))\n",
    "print(plot_confusion_matrix(vot_clas,X_test,y_test))"
   ]
  },
  {
   "cell_type": "markdown",
   "metadata": {},
   "source": [
    "## VOTING CLASSIFIER + CV"
   ]
  },
  {
   "cell_type": "code",
   "execution_count": 36,
   "metadata": {},
   "outputs": [],
   "source": [
    "models = [('DecTree',DecisionTreeClassifier(max_depth=4)),('KNN',KNeighborsClassifier())]  #depth no TF nada\n",
    "kfold = StratifiedKFold(n_splits=5)\n",
    "vot_clas_cv = VotingClassifier(estimators=models)\n",
    "cv_results = cross_val_score(vot_clas_cv, X_train,y_train,cv=kfold,scoring=\"recall\")"
   ]
  },
  {
   "cell_type": "code",
   "execution_count": 37,
   "metadata": {},
   "outputs": [
    {
     "data": {
      "text/plain": [
       "0.432592440884903"
      ]
     },
     "execution_count": 37,
     "metadata": {},
     "output_type": "execute_result"
    }
   ],
   "source": [
    "cv_results.mean()"
   ]
  },
  {
   "cell_type": "code",
   "execution_count": 38,
   "metadata": {},
   "outputs": [
    {
     "data": {
      "text/plain": [
       "0.015754155663442734"
      ]
     },
     "execution_count": 38,
     "metadata": {},
     "output_type": "execute_result"
    }
   ],
   "source": [
    "cv_results.std()"
   ]
  },
  {
   "cell_type": "markdown",
   "metadata": {},
   "source": [
    "## BAGGING"
   ]
  },
  {
   "cell_type": "code",
   "execution_count": 39,
   "metadata": {},
   "outputs": [],
   "source": [
    "bagg_clas = BaggingClassifier()    #default Dec Teree\n",
    "bagg_clas.fit(X_train,y_train)\n",
    "y_pred = bagg_clas.predict(X_test)"
   ]
  },
  {
   "cell_type": "code",
   "execution_count": 40,
   "metadata": {},
   "outputs": [
    {
     "name": "stdout",
     "output_type": "stream",
     "text": [
      "RECALL SCORE = 0.591506129597198\n",
      "0.6399810516342965\n",
      "              precision    recall  f1-score   support\n",
      "\n",
      "           0       0.87      0.92      0.89      6923\n",
      "           1       0.70      0.59      0.64      2284\n",
      "\n",
      "    accuracy                           0.83      9207\n",
      "   macro avg       0.78      0.75      0.77      9207\n",
      "weighted avg       0.83      0.83      0.83      9207\n",
      "\n",
      "0.7533581492995378\n"
     ]
    },
    {
     "name": "stderr",
     "output_type": "stream",
     "text": [
      "C:\\Users\\piovr\\AppData\\Local\\Programs\\Python\\Python37\\lib\\site-packages\\sklearn\\utils\\deprecation.py:87: FutureWarning: Function plot_confusion_matrix is deprecated; Function `plot_confusion_matrix` is deprecated in 1.0 and will be removed in 1.2. Use one of the class methods: ConfusionMatrixDisplay.from_predictions or ConfusionMatrixDisplay.from_estimator.\n",
      "  warnings.warn(msg, category=FutureWarning)\n"
     ]
    },
    {
     "name": "stdout",
     "output_type": "stream",
     "text": [
      "<sklearn.metrics._plot.confusion_matrix.ConfusionMatrixDisplay object at 0x000002487E8EEB88>\n"
     ]
    },
    {
     "data": {
      "image/png": "[encoded data removed]",
      "text/plain": [
       "<Figure size 432x288 with 2 Axes>"
      ]
     },
     "metadata": {
      "needs_background": "light"
     },
     "output_type": "display_data"
    }
   ],
   "source": [
    "print(\"RECALL SCORE =\", recall_score(y_test,y_pred))\n",
    "print(f1_score(y_test,y_pred))\n",
    "print(classification_report(y_test,y_pred))\n",
    "print(roc_auc_score(y_test,y_pred))\n",
    "print(plot_confusion_matrix(bagg_clas,X_test,y_test))"
   ]
  },
  {
   "cell_type": "markdown",
   "metadata": {},
   "source": [
    "### BAGGING - VAR"
   ]
  },
  {
   "cell_type": "code",
   "execution_count": 41,
   "metadata": {},
   "outputs": [],
   "source": [
    "bagg_clas_var1 = BaggingClassifier(n_estimators = 100)   \n",
    "bagg_clas_var1.fit(X_train,y_train)\n",
    "y_pred = bagg_clas_var1.predict(X_test)"
   ]
  },
  {
   "cell_type": "code",
   "execution_count": 42,
   "metadata": {},
   "outputs": [
    {
     "name": "stdout",
     "output_type": "stream",
     "text": [
      "RECALL SCORE = 0.6024518388791593\n",
      "0.6467685076380728\n",
      "              precision    recall  f1-score   support\n",
      "\n",
      "           0       0.87      0.91      0.89      6923\n",
      "           1       0.70      0.60      0.65      2284\n",
      "\n",
      "    accuracy                           0.84      9207\n",
      "   macro avg       0.79      0.76      0.77      9207\n",
      "weighted avg       0.83      0.84      0.83      9207\n",
      "\n",
      "0.7582532197429164\n"
     ]
    },
    {
     "name": "stderr",
     "output_type": "stream",
     "text": [
      "C:\\Users\\piovr\\AppData\\Local\\Programs\\Python\\Python37\\lib\\site-packages\\sklearn\\utils\\deprecation.py:87: FutureWarning: Function plot_confusion_matrix is deprecated; Function `plot_confusion_matrix` is deprecated in 1.0 and will be removed in 1.2. Use one of the class methods: ConfusionMatrixDisplay.from_predictions or ConfusionMatrixDisplay.from_estimator.\n",
      "  warnings.warn(msg, category=FutureWarning)\n"
     ]
    },
    {
     "name": "stdout",
     "output_type": "stream",
     "text": [
      "<sklearn.metrics._plot.confusion_matrix.ConfusionMatrixDisplay object at 0x000002487E9AB148>\n"
     ]
    },
    {
     "data": {
      "image/png": "[encoded data removed]",
      "text/plain": [
       "<Figure size 432x288 with 2 Axes>"
      ]
     },
     "metadata": {
      "needs_background": "light"
     },
     "output_type": "display_data"
    }
   ],
   "source": [
    "print(\"RECALL SCORE =\", recall_score(y_test,y_pred))\n",
    "print(f1_score(y_test,y_pred))\n",
    "print(classification_report(y_test,y_pred))\n",
    "print(roc_auc_score(y_test,y_pred))\n",
    "print(plot_confusion_matrix(bagg_clas_var1,X_test,y_test))"
   ]
  },
  {
   "cell_type": "markdown",
   "metadata": {},
   "source": [
    "### BAGGING + CV"
   ]
  },
  {
   "cell_type": "code",
   "execution_count": 43,
   "metadata": {},
   "outputs": [],
   "source": [
    "kfold = StratifiedKFold(n_splits=5)\n",
    "mod_bag_cv = BaggingClassifier(n_estimators=50, random_state=35) \n",
    "cv_results = cross_val_score(mod_bag_cv, X_train,y_train,cv=kfold,scoring=\"recall\")"
   ]
  },
  {
   "cell_type": "code",
   "execution_count": 44,
   "metadata": {},
   "outputs": [
    {
     "data": {
      "text/plain": [
       "0.5866735773511598"
      ]
     },
     "execution_count": 44,
     "metadata": {},
     "output_type": "execute_result"
    }
   ],
   "source": [
    "cv_results.mean()"
   ]
  },
  {
   "cell_type": "code",
   "execution_count": 45,
   "metadata": {},
   "outputs": [
    {
     "data": {
      "text/plain": [
       "0.01727828776147768"
      ]
     },
     "execution_count": 45,
     "metadata": {},
     "output_type": "execute_result"
    }
   ],
   "source": [
    "cv_results.std()"
   ]
  },
  {
   "cell_type": "markdown",
   "metadata": {},
   "source": [
    "## **PASTINGCLASSIFIER**"
   ]
  },
  {
   "cell_type": "code",
   "execution_count": 46,
   "metadata": {},
   "outputs": [],
   "source": [
    "past_clas = BaggingClassifier(bootstrap=False)\n",
    "past_clas.fit(X_train,y_train)\n",
    "y_pred = past_clas.predict(X_test)"
   ]
  },
  {
   "cell_type": "code",
   "execution_count": 47,
   "metadata": {},
   "outputs": [
    {
     "name": "stdout",
     "output_type": "stream",
     "text": [
      "RECALL SCORE = 0.5779334500875657\n",
      "0.6273764258555135\n",
      "              precision    recall  f1-score   support\n",
      "\n",
      "           0       0.87      0.91      0.89      6923\n",
      "           1       0.69      0.58      0.63      2284\n",
      "\n",
      "    accuracy                           0.83      9207\n",
      "   macro avg       0.78      0.75      0.76      9207\n",
      "weighted avg       0.82      0.83      0.82      9207\n",
      "\n",
      "0.7453440181248171\n"
     ]
    }
   ],
   "source": [
    "print(\"RECALL SCORE =\", recall_score(y_test,y_pred))\n",
    "print(f1_score(y_test,y_pred))\n",
    "print(classification_report(y_test,y_pred))\n",
    "print(roc_auc_score(y_test,y_pred))\n",
    "#print(plot_confusion_matrix(rf_var1,X_test,y_test))"
   ]
  },
  {
   "cell_type": "markdown",
   "metadata": {},
   "source": [
    "### PASTING CLASSIFIER - VAR"
   ]
  },
  {
   "cell_type": "code",
   "execution_count": 48,
   "metadata": {},
   "outputs": [],
   "source": [
    "past_clas = BaggingClassifier(n_estimators = 50, max_features=8, bootstrap = False)\n",
    "past_clas.fit(X_train,y_train)\n",
    "y_pred = past_clas.predict(X_test)"
   ]
  },
  {
   "cell_type": "code",
   "execution_count": 49,
   "metadata": {},
   "outputs": [
    {
     "name": "stdout",
     "output_type": "stream",
     "text": [
      "RECALL SCORE = 0.5936952714535902\n",
      "0.6480286738351254\n",
      "              precision    recall  f1-score   support\n",
      "\n",
      "           0       0.87      0.92      0.90      6923\n",
      "           1       0.71      0.59      0.65      2284\n",
      "\n",
      "    accuracy                           0.84      9207\n",
      "   macro avg       0.79      0.76      0.77      9207\n",
      "weighted avg       0.83      0.84      0.83      9207\n",
      "\n",
      "0.7574860872651455\n"
     ]
    }
   ],
   "source": [
    "print(\"RECALL SCORE =\", recall_score(y_test,y_pred))\n",
    "print(f1_score(y_test,y_pred))\n",
    "print(classification_report(y_test,y_pred))\n",
    "print(roc_auc_score(y_test,y_pred))\n",
    "#print(plot_confusion_matrix(rf_var1,X_test,y_test))"
   ]
  },
  {
   "cell_type": "markdown",
   "metadata": {},
   "source": [
    "### PASTING CLASSIFIER - CV"
   ]
  },
  {
   "cell_type": "code",
   "execution_count": 50,
   "metadata": {},
   "outputs": [],
   "source": [
    "kfold = KFold(n_splits=5)  #Stratified mejora de 0.30! pero luego tb con KFold...\n",
    "modelo_cv = BaggingClassifier(bootstrap=False, max_features = 5, n_estimators = 75, random_state=35) \n",
    "cv_results = cross_val_score(modelo_cv, X_train,y_train,cv=kfold,scoring=\"recall\")"
   ]
  },
  {
   "cell_type": "code",
   "execution_count": 51,
   "metadata": {},
   "outputs": [
    {
     "data": {
      "text/plain": [
       "0.4502045401117143"
      ]
     },
     "execution_count": 51,
     "metadata": {},
     "output_type": "execute_result"
    }
   ],
   "source": [
    "cv_results.mean()"
   ]
  },
  {
   "cell_type": "code",
   "execution_count": 52,
   "metadata": {},
   "outputs": [
    {
     "data": {
      "text/plain": [
       "0.010133888165628553"
      ]
     },
     "execution_count": 52,
     "metadata": {},
     "output_type": "execute_result"
    }
   ],
   "source": [
    "cv_results.std()"
   ]
  },
  {
   "cell_type": "markdown",
   "metadata": {},
   "source": [
    "## **RANDOMFOREST**"
   ]
  },
  {
   "cell_type": "code",
   "execution_count": 53,
   "metadata": {},
   "outputs": [],
   "source": [
    "rf = RandomForestClassifier()\n",
    "rf.fit(X_train,y_train)\n",
    "y_pred = rf.predict(X_test)"
   ]
  },
  {
   "cell_type": "code",
   "execution_count": 54,
   "metadata": {},
   "outputs": [
    {
     "name": "stdout",
     "output_type": "stream",
     "text": [
      "RECALL SCORE =  0.600262697022767\n",
      "0.6471560066084494\n",
      "              precision    recall  f1-score   support\n",
      "\n",
      "           0       0.87      0.92      0.89      6923\n",
      "           1       0.70      0.60      0.65      2284\n",
      "\n",
      "    accuracy                           0.84      9207\n",
      "   macro avg       0.79      0.76      0.77      9207\n",
      "weighted avg       0.83      0.84      0.83      9207\n",
      "\n",
      "0.7580975481358238\n"
     ]
    },
    {
     "name": "stderr",
     "output_type": "stream",
     "text": [
      "C:\\Users\\piovr\\AppData\\Local\\Programs\\Python\\Python37\\lib\\site-packages\\sklearn\\utils\\deprecation.py:87: FutureWarning: Function plot_confusion_matrix is deprecated; Function `plot_confusion_matrix` is deprecated in 1.0 and will be removed in 1.2. Use one of the class methods: ConfusionMatrixDisplay.from_predictions or ConfusionMatrixDisplay.from_estimator.\n",
      "  warnings.warn(msg, category=FutureWarning)\n"
     ]
    },
    {
     "name": "stdout",
     "output_type": "stream",
     "text": [
      "<sklearn.metrics._plot.confusion_matrix.ConfusionMatrixDisplay object at 0x000002487FDE8FC8>\n"
     ]
    },
    {
     "data": {
      "image/png": "[encoded data removed]",
      "text/plain": [
       "<Figure size 432x288 with 2 Axes>"
      ]
     },
     "metadata": {
      "needs_background": "light"
     },
     "output_type": "display_data"
    }
   ],
   "source": [
    "print(\"RECALL SCORE = \", recall_score(y_test,y_pred))\n",
    "print(f1_score(y_test,y_pred))\n",
    "print(classification_report(y_test,y_pred))\n",
    "print(roc_auc_score(y_test,y_pred))\n",
    "print(plot_confusion_matrix(rf,X_test,y_test))"
   ]
  },
  {
   "cell_type": "markdown",
   "metadata": {},
   "source": [
    "### RANDOM FOREST - VAR"
   ]
  },
  {
   "cell_type": "code",
   "execution_count": 55,
   "metadata": {},
   "outputs": [],
   "source": [
    "rf_var1 = RandomForestClassifier(class_weight= \"balanced\", max_depth=6) #entre 3-8: 6 mejor, 3 cerca\n",
    "rf_var1.fit(X_train,y_train)\n",
    "y_pred = rf_var1.predict(X_test)"
   ]
  },
  {
   "cell_type": "code",
   "execution_count": 56,
   "metadata": {},
   "outputs": [
    {
     "name": "stdout",
     "output_type": "stream",
     "text": [
      "RECALL SCORE = 0.8787215411558669\n",
      "0.6704526474027058\n",
      "              precision    recall  f1-score   support\n",
      "\n",
      "           0       0.95      0.76      0.84      6923\n",
      "           1       0.54      0.88      0.67      2284\n",
      "\n",
      "    accuracy                           0.79      9207\n",
      "   macro avg       0.75      0.82      0.76      9207\n",
      "weighted avg       0.85      0.79      0.80      9207\n",
      "\n",
      "0.816870520686268\n"
     ]
    },
    {
     "name": "stderr",
     "output_type": "stream",
     "text": [
      "C:\\Users\\piovr\\AppData\\Local\\Programs\\Python\\Python37\\lib\\site-packages\\sklearn\\utils\\deprecation.py:87: FutureWarning: Function plot_confusion_matrix is deprecated; Function `plot_confusion_matrix` is deprecated in 1.0 and will be removed in 1.2. Use one of the class methods: ConfusionMatrixDisplay.from_predictions or ConfusionMatrixDisplay.from_estimator.\n",
      "  warnings.warn(msg, category=FutureWarning)\n"
     ]
    },
    {
     "name": "stdout",
     "output_type": "stream",
     "text": [
      "<sklearn.metrics._plot.confusion_matrix.ConfusionMatrixDisplay object at 0x0000024802FDC488>\n"
     ]
    },
    {
     "data": {
      "image/png": "[encoded data removed]",
      "text/plain": [
       "<Figure size 432x288 with 2 Axes>"
      ]
     },
     "metadata": {
      "needs_background": "light"
     },
     "output_type": "display_data"
    }
   ],
   "source": [
    "print(\"RECALL SCORE =\", recall_score(y_test,y_pred))\n",
    "print(f1_score(y_test,y_pred))\n",
    "print(classification_report(y_test,y_pred))\n",
    "print(roc_auc_score(y_test,y_pred))\n",
    "print(plot_confusion_matrix(rf_var1,X_test,y_test))"
   ]
  },
  {
   "cell_type": "markdown",
   "metadata": {},
   "source": [
    "## RANDOM FOREST + CV"
   ]
  },
  {
   "cell_type": "code",
   "execution_count": 57,
   "metadata": {},
   "outputs": [],
   "source": [
    "kfold = KFold(n_splits=5)   #Stratified hace bajar 0.04, pero luego tb igual con KFold: tb bajado 0.04 respecto a resultado anterior\n",
    "modelo_cv = RandomForestClassifier(class_weight=\"balanced\", max_depth = 4, random_state=35) \n",
    "cv_results = cross_val_score(modelo_cv, X_train,y_train,cv=kfold,scoring=\"recall\")"
   ]
  },
  {
   "cell_type": "code",
   "execution_count": 58,
   "metadata": {},
   "outputs": [
    {
     "data": {
      "text/plain": [
       "0.8746476736779417"
      ]
     },
     "execution_count": 58,
     "metadata": {},
     "output_type": "execute_result"
    }
   ],
   "source": [
    "cv_results.mean()"
   ]
  },
  {
   "cell_type": "code",
   "execution_count": 59,
   "metadata": {},
   "outputs": [
    {
     "data": {
      "text/plain": [
       "0.011700812101474991"
      ]
     },
     "execution_count": 59,
     "metadata": {},
     "output_type": "execute_result"
    }
   ],
   "source": [
    "cv_results.std()"
   ]
  },
  {
   "cell_type": "markdown",
   "metadata": {},
   "source": [
    "### **ADABOOST - BAS**"
   ]
  },
  {
   "cell_type": "code",
   "execution_count": 60,
   "metadata": {},
   "outputs": [],
   "source": [
    "ada_bas = AdaBoostClassifier()\n",
    "ada_bas.fit(X_train,y_train)\n",
    "y_pred = ada_bas.predict(X_test)"
   ]
  },
  {
   "cell_type": "code",
   "execution_count": 61,
   "metadata": {},
   "outputs": [
    {
     "name": "stdout",
     "output_type": "stream",
     "text": [
      "RECALL SCORE =  0.5512259194395797\n",
      "0.6394108684611477\n",
      "              precision    recall  f1-score   support\n",
      "\n",
      "           0       0.86      0.94      0.90      6923\n",
      "           1       0.76      0.55      0.64      2284\n",
      "\n",
      "    accuracy                           0.85      9207\n",
      "   macro avg       0.81      0.75      0.77      9207\n",
      "weighted avg       0.84      0.85      0.84      9207\n",
      "\n",
      "0.7470848649631814\n"
     ]
    },
    {
     "name": "stderr",
     "output_type": "stream",
     "text": [
      "C:\\Users\\piovr\\AppData\\Local\\Programs\\Python\\Python37\\lib\\site-packages\\sklearn\\utils\\deprecation.py:87: FutureWarning: Function plot_confusion_matrix is deprecated; Function `plot_confusion_matrix` is deprecated in 1.0 and will be removed in 1.2. Use one of the class methods: ConfusionMatrixDisplay.from_predictions or ConfusionMatrixDisplay.from_estimator.\n",
      "  warnings.warn(msg, category=FutureWarning)\n"
     ]
    },
    {
     "name": "stdout",
     "output_type": "stream",
     "text": [
      "<sklearn.metrics._plot.confusion_matrix.ConfusionMatrixDisplay object at 0x000002480306E908>\n"
     ]
    },
    {
     "data": {
      "image/png": "[encoded data removed]",
      "text/plain": [
       "<Figure size 432x288 with 2 Axes>"
      ]
     },
     "metadata": {
      "needs_background": "light"
     },
     "output_type": "display_data"
    }
   ],
   "source": [
    "print(\"RECALL SCORE = \", recall_score(y_test,y_pred))\n",
    "print(f1_score(y_test,y_pred))\n",
    "print(classification_report(y_test,y_pred))\n",
    "print(roc_auc_score(y_test,y_pred))\n",
    "print(plot_confusion_matrix(ada_bas,X_test,y_test))"
   ]
  },
  {
   "cell_type": "markdown",
   "metadata": {},
   "source": [
    "### ADABOOST - var"
   ]
  },
  {
   "cell_type": "code",
   "execution_count": 62,
   "metadata": {},
   "outputs": [],
   "source": [
    "ada_var1 = AdaBoostClassifier(n_estimators=200, learning_rate =0.9)  #entre 5-7, enre 0.5 en 1\n",
    "ada_var1.fit(X_train,y_train)\n",
    "y_pred = ada_var1.predict(X_test)"
   ]
  },
  {
   "cell_type": "code",
   "execution_count": 63,
   "metadata": {},
   "outputs": [
    {
     "name": "stdout",
     "output_type": "stream",
     "text": [
      "RECALL SCORE = 0.5691768826619965\n",
      "0.6532663316582915\n",
      "              precision    recall  f1-score   support\n",
      "\n",
      "           0       0.87      0.94      0.90      6923\n",
      "           1       0.77      0.57      0.65      2284\n",
      "\n",
      "    accuracy                           0.85      9207\n",
      "   macro avg       0.82      0.76      0.78      9207\n",
      "weighted avg       0.84      0.85      0.84      9207\n",
      "\n",
      "0.7559881235496896\n"
     ]
    }
   ],
   "source": [
    "print(\"RECALL SCORE =\", recall_score(y_test,y_pred))\n",
    "print(f1_score(y_test,y_pred))\n",
    "print(classification_report(y_test,y_pred))\n",
    "print(roc_auc_score(y_test,y_pred))\n",
    "#print(plot_confusion_matrix(ada_var1,X_test,y_test))"
   ]
  },
  {
   "cell_type": "markdown",
   "metadata": {},
   "source": [
    "### ADABOOST + CV"
   ]
  },
  {
   "cell_type": "code",
   "execution_count": 64,
   "metadata": {},
   "outputs": [],
   "source": [
    "kfold = StratifiedKFold(n_splits=5) #Stratifed mejora score de 0.32\n",
    "modelo_cv = AdaBoostClassifier(random_state=35) \n",
    "cv_results = cross_val_score(modelo_cv, X_train,y_train,cv=kfold,scoring=\"recall\")"
   ]
  },
  {
   "cell_type": "code",
   "execution_count": 65,
   "metadata": {},
   "outputs": [
    {
     "data": {
      "text/plain": [
       "0.5480426713807836"
      ]
     },
     "execution_count": 65,
     "metadata": {},
     "output_type": "execute_result"
    }
   ],
   "source": [
    "cv_results.mean()"
   ]
  },
  {
   "cell_type": "code",
   "execution_count": 66,
   "metadata": {},
   "outputs": [
    {
     "data": {
      "text/plain": [
       "0.013979009399454297"
      ]
     },
     "execution_count": 66,
     "metadata": {},
     "output_type": "execute_result"
    }
   ],
   "source": [
    "cv_results.std()"
   ]
  },
  {
   "cell_type": "markdown",
   "metadata": {},
   "source": [
    "## **GRADIENTBOOST**"
   ]
  },
  {
   "cell_type": "code",
   "execution_count": 67,
   "metadata": {},
   "outputs": [],
   "source": [
    "gradboost_clas = GradientBoostingClassifier()\n",
    "gradboost_clas.fit(X_train,y_train)\n",
    "y_pred = gradboost_clas.predict(X_test)"
   ]
  },
  {
   "cell_type": "code",
   "execution_count": 69,
   "metadata": {},
   "outputs": [
    {
     "name": "stdout",
     "output_type": "stream",
     "text": [
      "RECALL SCORE = 0.746586564718733\n",
      "0.6643985419198055\n",
      "              precision    recall  f1-score   support\n",
      "\n",
      "           0       0.88      0.93      0.90      6923\n",
      "           1       0.75      0.60      0.66      2284\n",
      "\n",
      "    accuracy                           0.85      9207\n",
      "   macro avg       0.81      0.77      0.78      9207\n",
      "weighted avg       0.84      0.85      0.84      9207\n",
      "\n",
      "0.7657442083078991\n"
     ]
    },
    {
     "name": "stderr",
     "output_type": "stream",
     "text": [
      "C:\\Users\\piovr\\AppData\\Local\\Programs\\Python\\Python37\\lib\\site-packages\\sklearn\\utils\\deprecation.py:87: FutureWarning: Function plot_confusion_matrix is deprecated; Function `plot_confusion_matrix` is deprecated in 1.0 and will be removed in 1.2. Use one of the class methods: ConfusionMatrixDisplay.from_predictions or ConfusionMatrixDisplay.from_estimator.\n",
      "  warnings.warn(msg, category=FutureWarning)\n"
     ]
    },
    {
     "name": "stdout",
     "output_type": "stream",
     "text": [
      "<sklearn.metrics._plot.confusion_matrix.ConfusionMatrixDisplay object at 0x000002480845B8C8>\n"
     ]
    },
    {
     "data": {
      "image/png": "[encoded data removed]",
      "text/plain": [
       "<Figure size 432x288 with 2 Axes>"
      ]
     },
     "metadata": {
      "needs_background": "light"
     },
     "output_type": "display_data"
    }
   ],
   "source": [
    "print(\"RECALL SCORE =\", recall_score(y_pred,y_test))\n",
    "print(f1_score(y_test,y_pred))\n",
    "print(classification_report(y_test,y_pred))\n",
    "print(roc_auc_score(y_test,y_pred))\n",
    "print(plot_confusion_matrix(gradboost_clas,X_test,y_test))"
   ]
  },
  {
   "cell_type": "markdown",
   "metadata": {},
   "source": [
    "### GRADIENTBOOST + VAR"
   ]
  },
  {
   "cell_type": "code",
   "execution_count": 70,
   "metadata": {},
   "outputs": [],
   "source": [
    "gradboost_clas_var = GradientBoostingClassifier(n_estimators=150, loss=\"exponential\", min_samples_split = 3, learning_rate=0.3)\n",
    "gradboost_clas_var.fit(X_train,y_train)\n",
    "y_pred = gradboost_clas_var.predict(X_test)"
   ]
  },
  {
   "cell_type": "code",
   "execution_count": 71,
   "metadata": {},
   "outputs": [
    {
     "name": "stdout",
     "output_type": "stream",
     "text": [
      "RECALL SCORE = 0.744198312236287\n",
      "0.6751196172248805\n",
      "              precision    recall  f1-score   support\n",
      "\n",
      "           0       0.88      0.93      0.90      6923\n",
      "           1       0.74      0.62      0.68      2284\n",
      "\n",
      "    accuracy                           0.85      9207\n",
      "   macro avg       0.81      0.77      0.79      9207\n",
      "weighted avg       0.85      0.85      0.85      9207\n",
      "\n",
      "0.7738597489573196\n"
     ]
    },
    {
     "name": "stderr",
     "output_type": "stream",
     "text": [
      "C:\\Users\\piovr\\AppData\\Local\\Programs\\Python\\Python37\\lib\\site-packages\\sklearn\\utils\\deprecation.py:87: FutureWarning: Function plot_confusion_matrix is deprecated; Function `plot_confusion_matrix` is deprecated in 1.0 and will be removed in 1.2. Use one of the class methods: ConfusionMatrixDisplay.from_predictions or ConfusionMatrixDisplay.from_estimator.\n",
      "  warnings.warn(msg, category=FutureWarning)\n"
     ]
    },
    {
     "name": "stdout",
     "output_type": "stream",
     "text": [
      "<sklearn.metrics._plot.confusion_matrix.ConfusionMatrixDisplay object at 0x0000024804230C88>\n"
     ]
    },
    {
     "data": {
      "image/png": "[encoded data removed]",
      "text/plain": [
       "<Figure size 432x288 with 2 Axes>"
      ]
     },
     "metadata": {
      "needs_background": "light"
     },
     "output_type": "display_data"
    }
   ],
   "source": [
    "print(\"RECALL SCORE =\", recall_score(y_pred,y_test))\n",
    "print(f1_score(y_test,y_pred))\n",
    "print(classification_report(y_test,y_pred))\n",
    "print(roc_auc_score(y_test,y_pred))\n",
    "print(plot_confusion_matrix(gradboost_clas_var,X_test,y_test))"
   ]
  },
  {
   "cell_type": "markdown",
   "metadata": {},
   "source": [
    "## GRADIENTBOOST + CV"
   ]
  },
  {
   "cell_type": "code",
   "execution_count": 72,
   "metadata": {},
   "outputs": [
    {
     "ename": "TypeError",
     "evalue": "__init__() got an unexpected keyword argument 'randomstate'",
     "output_type": "error",
     "traceback": [
      "\u001b[1;31m---------------------------------------------------------------------------\u001b[0m",
      "\u001b[1;31mTypeError\u001b[0m                                 Traceback (most recent call last)",
      "\u001b[1;32m~\\AppData\\Local\\Temp\\ipykernel_2056\\48196112.py\u001b[0m in \u001b[0;36m<module>\u001b[1;34m\u001b[0m\n\u001b[0;32m      1\u001b[0m \u001b[0mkfold\u001b[0m \u001b[1;33m=\u001b[0m \u001b[0mKFold\u001b[0m\u001b[1;33m(\u001b[0m\u001b[0mn_splits\u001b[0m\u001b[1;33m=\u001b[0m\u001b[1;36m5\u001b[0m\u001b[1;33m)\u001b[0m     \u001b[1;31m#Stratified no mejora recall\u001b[0m\u001b[1;33m\u001b[0m\u001b[1;33m\u001b[0m\u001b[0m\n\u001b[1;32m----> 2\u001b[1;33m \u001b[0mmodelo_cv\u001b[0m \u001b[1;33m=\u001b[0m \u001b[0mGradientBoostingClassifier\u001b[0m\u001b[1;33m(\u001b[0m\u001b[0mn_estimators\u001b[0m\u001b[1;33m=\u001b[0m\u001b[1;36m150\u001b[0m\u001b[1;33m,\u001b[0m \u001b[0mloss\u001b[0m\u001b[1;33m=\u001b[0m \u001b[1;34m\"exponential\"\u001b[0m\u001b[1;33m,\u001b[0m \u001b[0mmin_samples_split\u001b[0m\u001b[1;33m=\u001b[0m\u001b[1;36m3\u001b[0m\u001b[1;33m,\u001b[0m \u001b[0mlearning_rate\u001b[0m\u001b[1;33m=\u001b[0m\u001b[1;36m0.3\u001b[0m\u001b[1;33m,\u001b[0m \u001b[0mrandomstate\u001b[0m\u001b[1;33m=\u001b[0m\u001b[1;36m27\u001b[0m\u001b[1;33m)\u001b[0m\u001b[1;33m\u001b[0m\u001b[1;33m\u001b[0m\u001b[0m\n\u001b[0m\u001b[0;32m      3\u001b[0m \u001b[0mcv_results\u001b[0m \u001b[1;33m=\u001b[0m \u001b[0mcross_val_score\u001b[0m\u001b[1;33m(\u001b[0m\u001b[0mmodelo_cv\u001b[0m\u001b[1;33m,\u001b[0m \u001b[0mX_train\u001b[0m\u001b[1;33m,\u001b[0m\u001b[0my_train\u001b[0m\u001b[1;33m,\u001b[0m\u001b[0mcv\u001b[0m\u001b[1;33m=\u001b[0m\u001b[0mkfold\u001b[0m\u001b[1;33m,\u001b[0m\u001b[0mscoring\u001b[0m\u001b[1;33m=\u001b[0m\u001b[1;34m\"recall\"\u001b[0m\u001b[1;33m)\u001b[0m\u001b[1;33m\u001b[0m\u001b[1;33m\u001b[0m\u001b[0m\n",
      "\u001b[1;31mTypeError\u001b[0m: __init__() got an unexpected keyword argument 'randomstate'"
     ]
    }
   ],
   "source": [
    "kfold = KFold(n_splits=5)     #Stratified no mejora recall \n",
    "modelo_cv = GradientBoostingClassifier(n_estimators=150, loss= \"exponential\", min_samples_split=3, learning_rate=0.3, randomstate=27) \n",
    "cv_results = cross_val_score(modelo_cv, X_train,y_train,cv=kfold,scoring=\"recall\")"
   ]
  },
  {
   "cell_type": "code",
   "execution_count": 73,
   "metadata": {},
   "outputs": [
    {
     "data": {
      "text/plain": [
       "0.5480426713807836"
      ]
     },
     "execution_count": 73,
     "metadata": {},
     "output_type": "execute_result"
    }
   ],
   "source": [
    "cv_results.mean()"
   ]
  },
  {
   "cell_type": "code",
   "execution_count": 74,
   "metadata": {},
   "outputs": [
    {
     "data": {
      "text/plain": [
       "0.013979009399454297"
      ]
     },
     "execution_count": 74,
     "metadata": {},
     "output_type": "execute_result"
    }
   ],
   "source": [
    "cv_results.std()"
   ]
  },
  {
   "cell_type": "markdown",
   "metadata": {},
   "source": [
    "## **XGBOOST**"
   ]
  },
  {
   "cell_type": "code",
   "execution_count": 75,
   "metadata": {},
   "outputs": [
    {
     "name": "stderr",
     "output_type": "stream",
     "text": [
      "C:\\Users\\piovr\\AppData\\Local\\Programs\\Python\\Python37\\lib\\site-packages\\xgboost\\sklearn.py:1224: UserWarning: The use of label encoder in XGBClassifier is deprecated and will be removed in a future release. To remove this warning, do the following: 1) Pass option use_label_encoder=False when constructing XGBClassifier object; and 2) Encode your labels (y) as integers starting with 0, i.e. 0, 1, 2, ..., [num_class - 1].\n",
      "  warnings.warn(label_encoder_deprecation_msg, UserWarning)\n"
     ]
    },
    {
     "name": "stdout",
     "output_type": "stream",
     "text": [
      "[10:23:11] WARNING: C:/Users/Administrator/workspace/xgboost-win64_release_1.5.1/src/learner.cc:1115: Starting in XGBoost 1.3.0, the default evaluation metric used with the objective 'binary:logistic' was changed from 'error' to 'logloss'. Explicitly set eval_metric if you'd like to restore the old behavior.\n"
     ]
    }
   ],
   "source": [
    "xgb = XGBClassifier()\n",
    "xgb.fit(X_train,y_train)\n",
    "y_pred = xgb.predict(X_test)"
   ]
  },
  {
   "cell_type": "code",
   "execution_count": 76,
   "metadata": {},
   "outputs": [
    {
     "name": "stdout",
     "output_type": "stream",
     "text": [
      "RECALL SCORE = 0.7425847457627118\n",
      "0.6720997123681687\n",
      "              precision    recall  f1-score   support\n",
      "\n",
      "           0       0.88      0.93      0.90      6923\n",
      "           1       0.74      0.61      0.67      2284\n",
      "\n",
      "    accuracy                           0.85      9207\n",
      "   macro avg       0.81      0.77      0.79      9207\n",
      "weighted avg       0.85      0.85      0.85      9207\n",
      "\n",
      "0.7718172982618663\n"
     ]
    },
    {
     "name": "stderr",
     "output_type": "stream",
     "text": [
      "C:\\Users\\piovr\\AppData\\Local\\Programs\\Python\\Python37\\lib\\site-packages\\sklearn\\utils\\deprecation.py:87: FutureWarning: Function plot_confusion_matrix is deprecated; Function `plot_confusion_matrix` is deprecated in 1.0 and will be removed in 1.2. Use one of the class methods: ConfusionMatrixDisplay.from_predictions or ConfusionMatrixDisplay.from_estimator.\n",
      "  warnings.warn(msg, category=FutureWarning)\n"
     ]
    },
    {
     "name": "stdout",
     "output_type": "stream",
     "text": [
      "<sklearn.metrics._plot.confusion_matrix.ConfusionMatrixDisplay object at 0x0000024804248E48>\n"
     ]
    },
    {
     "data": {
      "image/png": "[encoded data removed]",
      "text/plain": [
       "<Figure size 432x288 with 2 Axes>"
      ]
     },
     "metadata": {
      "needs_background": "light"
     },
     "output_type": "display_data"
    }
   ],
   "source": [
    "print(\"RECALL SCORE =\", recall_score(y_pred,y_test))\n",
    "print(f1_score(y_test,y_pred))\n",
    "print(classification_report(y_test,y_pred))\n",
    "print(roc_auc_score(y_test,y_pred))\n",
    "print(plot_confusion_matrix(xgb,X_test,y_test))"
   ]
  },
  {
   "cell_type": "markdown",
   "metadata": {},
   "source": [
    "## XGBOOST - var"
   ]
  },
  {
   "cell_type": "code",
   "execution_count": 77,
   "metadata": {},
   "outputs": [
    {
     "name": "stderr",
     "output_type": "stream",
     "text": [
      "C:\\Users\\piovr\\AppData\\Local\\Programs\\Python\\Python37\\lib\\site-packages\\xgboost\\sklearn.py:1224: UserWarning: The use of label encoder in XGBClassifier is deprecated and will be removed in a future release. To remove this warning, do the following: 1) Pass option use_label_encoder=False when constructing XGBClassifier object; and 2) Encode your labels (y) as integers starting with 0, i.e. 0, 1, 2, ..., [num_class - 1].\n",
      "  warnings.warn(label_encoder_deprecation_msg, UserWarning)\n"
     ]
    },
    {
     "name": "stdout",
     "output_type": "stream",
     "text": [
      "[10:23:22] WARNING: C:/Users/Administrator/workspace/xgboost-win64_release_1.5.1/src/learner.cc:1115: Starting in XGBoost 1.3.0, the default evaluation metric used with the objective 'binary:logistic' was changed from 'error' to 'logloss'. Explicitly set eval_metric if you'd like to restore the old behavior.\n"
     ]
    }
   ],
   "source": [
    "xgb_var1 = XGBClassifier(n_estimators = 180)\n",
    "xgb_var1.fit(X_train,y_train)\n",
    "y_pred = xgb_var1.predict(X_test)"
   ]
  },
  {
   "cell_type": "code",
   "execution_count": 78,
   "metadata": {},
   "outputs": [
    {
     "name": "stdout",
     "output_type": "stream",
     "text": [
      "RECALL SCORE =  0.6103327495621717\n",
      "0.6660296225513617\n",
      "              precision    recall  f1-score   support\n",
      "\n",
      "           0       0.88      0.93      0.90      6923\n",
      "           1       0.73      0.61      0.67      2284\n",
      "\n",
      "    accuracy                           0.85      9207\n",
      "   macro avg       0.81      0.77      0.78      9207\n",
      "weighted avg       0.84      0.85      0.84      9207\n",
      "\n",
      "0.7684770782333463\n"
     ]
    },
    {
     "name": "stderr",
     "output_type": "stream",
     "text": [
      "C:\\Users\\piovr\\AppData\\Local\\Programs\\Python\\Python37\\lib\\site-packages\\sklearn\\utils\\deprecation.py:87: FutureWarning: Function plot_confusion_matrix is deprecated; Function `plot_confusion_matrix` is deprecated in 1.0 and will be removed in 1.2. Use one of the class methods: ConfusionMatrixDisplay.from_predictions or ConfusionMatrixDisplay.from_estimator.\n",
      "  warnings.warn(msg, category=FutureWarning)\n"
     ]
    },
    {
     "name": "stdout",
     "output_type": "stream",
     "text": [
      "<sklearn.metrics._plot.confusion_matrix.ConfusionMatrixDisplay object at 0x00000248031813C8>\n"
     ]
    },
    {
     "data": {
      "image/png": "[encoded data removed]",
      "text/plain": [
       "<Figure size 432x288 with 2 Axes>"
      ]
     },
     "metadata": {
      "needs_background": "light"
     },
     "output_type": "display_data"
    }
   ],
   "source": [
    "print(\"RECALL SCORE = \", recall_score(y_test,y_pred))\n",
    "print(f1_score(y_test,y_pred))\n",
    "print(classification_report(y_test,y_pred))\n",
    "print(roc_auc_score(y_test,y_pred))\n",
    "print(plot_confusion_matrix(xgb_var1,X_test,y_test))"
   ]
  },
  {
   "cell_type": "markdown",
   "metadata": {},
   "source": [
    "## XGBOOST + CV"
   ]
  },
  {
   "cell_type": "code",
   "execution_count": 79,
   "metadata": {},
   "outputs": [
    {
     "name": "stderr",
     "output_type": "stream",
     "text": [
      "C:\\Users\\piovr\\AppData\\Local\\Programs\\Python\\Python37\\lib\\site-packages\\xgboost\\sklearn.py:1224: UserWarning: The use of label encoder in XGBClassifier is deprecated and will be removed in a future release. To remove this warning, do the following: 1) Pass option use_label_encoder=False when constructing XGBClassifier object; and 2) Encode your labels (y) as integers starting with 0, i.e. 0, 1, 2, ..., [num_class - 1].\n",
      "  warnings.warn(label_encoder_deprecation_msg, UserWarning)\n"
     ]
    },
    {
     "name": "stdout",
     "output_type": "stream",
     "text": [
      "[10:23:46] WARNING: C:/Users/Administrator/workspace/xgboost-win64_release_1.5.1/src/learner.cc:1115: Starting in XGBoost 1.3.0, the default evaluation metric used with the objective 'binary:logistic' was changed from 'error' to 'logloss'. Explicitly set eval_metric if you'd like to restore the old behavior.\n"
     ]
    },
    {
     "name": "stderr",
     "output_type": "stream",
     "text": [
      "C:\\Users\\piovr\\AppData\\Local\\Programs\\Python\\Python37\\lib\\site-packages\\xgboost\\sklearn.py:1224: UserWarning: The use of label encoder in XGBClassifier is deprecated and will be removed in a future release. To remove this warning, do the following: 1) Pass option use_label_encoder=False when constructing XGBClassifier object; and 2) Encode your labels (y) as integers starting with 0, i.e. 0, 1, 2, ..., [num_class - 1].\n",
      "  warnings.warn(label_encoder_deprecation_msg, UserWarning)\n"
     ]
    },
    {
     "name": "stdout",
     "output_type": "stream",
     "text": [
      "[10:23:49] WARNING: C:/Users/Administrator/workspace/xgboost-win64_release_1.5.1/src/learner.cc:1115: Starting in XGBoost 1.3.0, the default evaluation metric used with the objective 'binary:logistic' was changed from 'error' to 'logloss'. Explicitly set eval_metric if you'd like to restore the old behavior.\n"
     ]
    },
    {
     "name": "stderr",
     "output_type": "stream",
     "text": [
      "C:\\Users\\piovr\\AppData\\Local\\Programs\\Python\\Python37\\lib\\site-packages\\xgboost\\sklearn.py:1224: UserWarning: The use of label encoder in XGBClassifier is deprecated and will be removed in a future release. To remove this warning, do the following: 1) Pass option use_label_encoder=False when constructing XGBClassifier object; and 2) Encode your labels (y) as integers starting with 0, i.e. 0, 1, 2, ..., [num_class - 1].\n",
      "  warnings.warn(label_encoder_deprecation_msg, UserWarning)\n"
     ]
    },
    {
     "name": "stdout",
     "output_type": "stream",
     "text": [
      "[10:23:52] WARNING: C:/Users/Administrator/workspace/xgboost-win64_release_1.5.1/src/learner.cc:1115: Starting in XGBoost 1.3.0, the default evaluation metric used with the objective 'binary:logistic' was changed from 'error' to 'logloss'. Explicitly set eval_metric if you'd like to restore the old behavior.\n"
     ]
    },
    {
     "name": "stderr",
     "output_type": "stream",
     "text": [
      "C:\\Users\\piovr\\AppData\\Local\\Programs\\Python\\Python37\\lib\\site-packages\\xgboost\\sklearn.py:1224: UserWarning: The use of label encoder in XGBClassifier is deprecated and will be removed in a future release. To remove this warning, do the following: 1) Pass option use_label_encoder=False when constructing XGBClassifier object; and 2) Encode your labels (y) as integers starting with 0, i.e. 0, 1, 2, ..., [num_class - 1].\n",
      "  warnings.warn(label_encoder_deprecation_msg, UserWarning)\n"
     ]
    },
    {
     "name": "stdout",
     "output_type": "stream",
     "text": [
      "[10:23:55] WARNING: C:/Users/Administrator/workspace/xgboost-win64_release_1.5.1/src/learner.cc:1115: Starting in XGBoost 1.3.0, the default evaluation metric used with the objective 'binary:logistic' was changed from 'error' to 'logloss'. Explicitly set eval_metric if you'd like to restore the old behavior.\n"
     ]
    },
    {
     "name": "stderr",
     "output_type": "stream",
     "text": [
      "C:\\Users\\piovr\\AppData\\Local\\Programs\\Python\\Python37\\lib\\site-packages\\xgboost\\sklearn.py:1224: UserWarning: The use of label encoder in XGBClassifier is deprecated and will be removed in a future release. To remove this warning, do the following: 1) Pass option use_label_encoder=False when constructing XGBClassifier object; and 2) Encode your labels (y) as integers starting with 0, i.e. 0, 1, 2, ..., [num_class - 1].\n",
      "  warnings.warn(label_encoder_deprecation_msg, UserWarning)\n"
     ]
    },
    {
     "name": "stdout",
     "output_type": "stream",
     "text": [
      "[10:23:58] WARNING: C:/Users/Administrator/workspace/xgboost-win64_release_1.5.1/src/learner.cc:1115: Starting in XGBoost 1.3.0, the default evaluation metric used with the objective 'binary:logistic' was changed from 'error' to 'logloss'. Explicitly set eval_metric if you'd like to restore the old behavior.\n"
     ]
    }
   ],
   "source": [
    "kfold = StratifiedKFold(n_splits=5)    #5 mismo result   #mejora el Recall de 0.27!\n",
    "modelo_cv = XGBClassifier(random_state=35)     \n",
    "cv_results = cross_val_score(modelo_cv, X_train,y_train,cv=kfold,scoring=\"recall\")"
   ]
  },
  {
   "cell_type": "code",
   "execution_count": 80,
   "metadata": {},
   "outputs": [
    {
     "data": {
      "text/plain": [
       "0.5982732271459352"
      ]
     },
     "execution_count": 80,
     "metadata": {},
     "output_type": "execute_result"
    }
   ],
   "source": [
    "cv_results.mean()"
   ]
  },
  {
   "cell_type": "code",
   "execution_count": 82,
   "metadata": {},
   "outputs": [
    {
     "data": {
      "text/plain": [
       "0.013434541695453247"
      ]
     },
     "execution_count": 82,
     "metadata": {},
     "output_type": "execute_result"
    }
   ],
   "source": [
    "cv_results.std()"
   ]
  },
  {
   "cell_type": "markdown",
   "metadata": {},
   "source": [
    "## 5.2. Aplicación de Pipeline:"
   ]
  },
  {
   "cell_type": "markdown",
   "metadata": {},
   "source": [
    "Aplicamos también un Pipeline a los dos tipos de modelos que mejores resultados han dado: Decision Tree y RandomForest"
   ]
  },
  {
   "cell_type": "markdown",
   "metadata": {},
   "source": [
    "### Decision Tree en Pipeline:"
   ]
  },
  {
   "cell_type": "code",
   "execution_count": 87,
   "metadata": {},
   "outputs": [
    {
     "name": "stdout",
     "output_type": "stream",
     "text": [
      "Fitting 8 folds for each of 10 candidates, totalling 80 fits\n",
      "RandomForest: resultados del entrenamiento sobre el grupo test\n",
      "RECALL SCORE: 0.8450087565674256\n",
      "0.6805359661495064\n",
      "              precision    recall  f1-score   support\n",
      "\n",
      "           0       0.94      0.79      0.86      6923\n",
      "           1       0.57      0.85      0.68      2284\n",
      "\n",
      "    accuracy                           0.80      9207\n",
      "   macro avg       0.75      0.82      0.77      9207\n",
      "weighted avg       0.85      0.80      0.81      9207\n",
      "\n",
      "0.8172032082707126\n"
     ]
    }
   ],
   "source": [
    "pl_dec_tree = Pipeline(steps = [(\"mod_dec_tree\", DecisionTreeClassifier())])\n",
    "params_mod_dec_tree = {\"mod_dec_tree__criterion\":[\"gini\",\"entropy\"], \"mod_dec_tree__min_samples_leaf\":[10,20,50], \"mod_dec_tree__class_weight\": [None, \"balanced\"]}\n",
    "mod_dec_tree = RandomizedSearchCV(pl_dec_tree,\n",
    "                         params_mod_dec_tree,\n",
    "                         cv = 8,\n",
    "                         scoring = 'recall',\n",
    "                         verbose = 1) \n",
    "#ENTRENAR\n",
    "mod_dec_tree.fit(X_train,y_train)\n",
    "\n",
    "#APLICAR A TEST\n",
    "y_pred = mod_dec_tree.predict(X_test)\n",
    "\n",
    "#RESULTADOS\n",
    "print(\"RandomForest: resultados del entrenamiento sobre el grupo test\")\n",
    "print(\"RECALL SCORE:\",recall_score(y_test,y_pred))\n",
    "print(f1_score(y_test,y_pred))\n",
    "print(classification_report(y_test,y_pred))\n",
    "print(roc_auc_score(y_test,y_pred))\n",
    "#print(confusion_matrix(X_test,y_test))"
   ]
  },
  {
   "cell_type": "markdown",
   "metadata": {},
   "source": [
    "### RandomForest en Pipeline"
   ]
  },
  {
   "cell_type": "code",
   "execution_count": 89,
   "metadata": {},
   "outputs": [
    {
     "name": "stdout",
     "output_type": "stream",
     "text": [
      "Fitting 8 folds for each of 10 candidates, totalling 80 fits\n",
      "RandomForest: resultados del entrenamiento sobre el grupo test\n",
      "RECALL SCORE: 0.861646234676007\n",
      "0.6830961471711211\n",
      "              precision    recall  f1-score   support\n",
      "\n",
      "           0       0.94      0.78      0.86      6923\n",
      "           1       0.57      0.86      0.68      2284\n",
      "\n",
      "    accuracy                           0.80      9207\n",
      "   macro avg       0.76      0.82      0.77      9207\n",
      "weighted avg       0.85      0.80      0.81      9207\n",
      "\n",
      "0.8217663500405891\n"
     ]
    }
   ],
   "source": [
    "pl_rf_clas = Pipeline(steps = [(\"mod_rf_clas\", RandomForestClassifier())])\n",
    "params_mod_rf_clas = {\"mod_rf_clas__n_estimators\":[15,30,45,60], \"mod_rf_clas__min_samples_leaf\":[10,20,50], \"mod_rf_clas__class_weight\": [None, \"balanced\"], \"mod_rf_clas__n_jobs\": [-1]}\n",
    "gs_mod_rf_clas = RandomizedSearchCV(pl_rf_clas,\n",
    "                         params_mod_rf_clas,\n",
    "                         cv = 8,\n",
    "                         scoring = 'recall',\n",
    "                         verbose = 1)\n",
    "#ENTRENAR\n",
    "gs_mod_rf_clas.fit(X_train,y_train)\n",
    "\n",
    "#APLICAR A TEST\n",
    "y_pred = gs_mod_rf_clas.predict(X_test)\n",
    "\n",
    "#RESULTADOS\n",
    "print(\"RandomForest: resultados del entrenamiento sobre el grupo test\")\n",
    "print(\"RECALL SCORE:\",recall_score(y_test,y_pred))\n",
    "print(f1_score(y_test,y_pred))\n",
    "print(classification_report(y_test,y_pred))\n",
    "print(roc_auc_score(y_test,y_pred))\n",
    "#print(confusion_matrix(X_test,y_test))"
   ]
  },
  {
   "cell_type": "markdown",
   "metadata": {},
   "source": [
    "Estos dos entrenamientos extra (por Pipeline) no nos han proporcionado mejores resultados que el entrenamiento gestionado de manera manual.  \n",
    "De lo anterior, podemos seleccionar el mejor modelo:"
   ]
  },
  {
   "cell_type": "markdown",
   "metadata": {},
   "source": [
    "# 6. SELECCION MODELO"
   ]
  },
  {
   "cell_type": "markdown",
   "metadata": {},
   "source": [
    "El modelo que mejor predicción ha podido proporcionar para nuestro propósito, es decir, con el resultado de recall más alto, es el RandomTreeClassifier. Hagamos otro intento para ver si podemos mejorarlo aún."
   ]
  },
  {
   "cell_type": "markdown",
   "metadata": {},
   "source": [
    "# 7. OPTIMIZAR MODELO: (RE-)TUNING HYPERPARÁMETROS"
   ]
  },
  {
   "cell_type": "code",
   "execution_count": 90,
   "metadata": {},
   "outputs": [
    {
     "name": "stdout",
     "output_type": "stream",
     "text": [
      "{'max_depth': 4, 'n_estimators': 25}\n",
      "RandomForestClassifier(class_weight='balanced', max_depth=4, n_estimators=25)\n"
     ]
    }
   ],
   "source": [
    "model = RandomForestClassifier(class_weight=\"balanced\")\n",
    "params = [{\"n_estimators\": [25,50,75,100,150,200], \"max_depth\": [2,3,4,5,6,8]}]\n",
    "\n",
    "gridsearch = GridSearchCV(model, params, cv=5, scoring=\"recall\",n_jobs=-1)    #no incluimos return_train_score en base a la explicación en sklearn: informs about over/underfitting problem, but processing = expensive, not really extra parameter to get a better score\n",
    "                                                #n_jobs=-1:use all processor\n",
    "gridsearch.fit(X_train,y_train)                                 \n",
    "y_pred = gridsearch.predict(X_test)\n",
    "print(gridsearch.best_params_)\n",
    "print(gridsearch.best_estimator_)\n",
    "#print(gridsearch.score(y_test,y_pred))"
   ]
  },
  {
   "cell_type": "code",
   "execution_count": 100,
   "metadata": {},
   "outputs": [
    {
     "data": {
      "text/plain": [
       "RandomForestClassifier(class_weight='balanced', max_depth=4, n_estimators=25)"
      ]
     },
     "execution_count": 100,
     "metadata": {},
     "output_type": "execute_result"
    }
   ],
   "source": [
    "my_model = gridsearch.best_estimator_\n",
    "my_model"
   ]
  },
  {
   "cell_type": "code",
   "execution_count": 96,
   "metadata": {},
   "outputs": [
    {
     "name": "stdout",
     "output_type": "stream",
     "text": [
      "FINAL RECALL SCORE = 0.8949211908931699\n"
     ]
    }
   ],
   "source": [
    "print(\"FINAL RECALL SCORE =\", recall_score(y_test,y_pred))"
   ]
  },
  {
   "cell_type": "markdown",
   "metadata": {},
   "source": [
    "Gracias al GridSearch, hemos podido mejorar nuestro score recall hasta 0.8949."
   ]
  },
  {
   "cell_type": "markdown",
   "metadata": {},
   "source": [
    "Veamos, sin embargo, desde una perspectiva un poco más amplia cómo se distribuyen nuestros outputs de nuestro grupo test en cuanto a false negatives/positives, en true negatives/positives:"
   ]
  },
  {
   "cell_type": "code",
   "execution_count": 93,
   "metadata": {},
   "outputs": [
    {
     "data": {
      "text/html": [
       "<div>\n",
       "<style scoped>\n",
       "    .dataframe tbody tr th:only-of-type {\n",
       "        vertical-align: middle;\n",
       "    }\n",
       "\n",
       "    .dataframe tbody tr th {\n",
       "        vertical-align: top;\n",
       "    }\n",
       "\n",
       "    .dataframe thead th {\n",
       "        text-align: right;\n",
       "    }\n",
       "</style>\n",
       "<table border=\"1\" class=\"dataframe\">\n",
       "  <thead>\n",
       "    <tr style=\"text-align: right;\">\n",
       "      <th>col_0</th>\n",
       "      <th>0</th>\n",
       "      <th>1</th>\n",
       "    </tr>\n",
       "    <tr>\n",
       "      <th>result_01</th>\n",
       "      <th></th>\n",
       "      <th></th>\n",
       "    </tr>\n",
       "  </thead>\n",
       "  <tbody>\n",
       "    <tr>\n",
       "      <th>0</th>\n",
       "      <td>4865</td>\n",
       "      <td>2058</td>\n",
       "    </tr>\n",
       "    <tr>\n",
       "      <th>1</th>\n",
       "      <td>240</td>\n",
       "      <td>2044</td>\n",
       "    </tr>\n",
       "  </tbody>\n",
       "</table>\n",
       "</div>"
      ],
      "text/plain": [
       "col_0         0     1\n",
       "result_01            \n",
       "0          4865  2058\n",
       "1           240  2044"
      ]
     },
     "metadata": {},
     "output_type": "display_data"
    },
    {
     "name": "stdout",
     "output_type": "stream",
     "text": [
      "recall: 0.895\n",
      "precision: 0.498\n",
      "accuracy: 0.750\n",
      "f1-score: 0.640\n"
     ]
    }
   ],
   "source": [
    "y_pred = gridsearch.predict(X_test)\n",
    "display(pd.crosstab(columns=y_pred, index=y_test).round(3))    #normalize = True\n",
    "print('recall: {:.3f}'.format(recall_score(y_test,y_pred)))\n",
    "print('precision: {:.3f}'.format(precision_score(y_test, y_pred)))   \n",
    "print('accuracy: {:.3f}'.format(accuracy_score(y_test, y_pred)))\n",
    "print('f1-score: {:.3f}'.format(f1_score(y_test, y_pred)))"
   ]
  },
  {
   "cell_type": "markdown",
   "metadata": {},
   "source": [
    "Visualizamos este mismo resultado algo mejor:"
   ]
  },
  {
   "cell_type": "code",
   "execution_count": 94,
   "metadata": {},
   "outputs": [
    {
     "name": "stderr",
     "output_type": "stream",
     "text": [
      "C:\\Users\\piovr\\AppData\\Local\\Programs\\Python\\Python37\\lib\\site-packages\\sklearn\\utils\\deprecation.py:87: FutureWarning: Function plot_confusion_matrix is deprecated; Function `plot_confusion_matrix` is deprecated in 1.0 and will be removed in 1.2. Use one of the class methods: ConfusionMatrixDisplay.from_predictions or ConfusionMatrixDisplay.from_estimator.\n",
      "  warnings.warn(msg, category=FutureWarning)\n"
     ]
    },
    {
     "data": {
      "text/plain": [
       "<sklearn.metrics._plot.confusion_matrix.ConfusionMatrixDisplay at 0x2480846a508>"
      ]
     },
     "execution_count": 94,
     "metadata": {},
     "output_type": "execute_result"
    },
    {
     "data": {
      "image/png": "[encoded data removed]",
      "text/plain": [
       "<Figure size 432x288 with 2 Axes>"
      ]
     },
     "metadata": {
      "needs_background": "light"
     },
     "output_type": "display_data"
    }
   ],
   "source": [
    "plot_confusion_matrix(gridsearch,X_test,y_test)"
   ]
  },
  {
   "cell_type": "markdown",
   "metadata": {},
   "source": [
    "Notamos que se incluyen en nuestro grupo 'target' bastantes 'false positives' también, pero dado nuestro objetivo, es el precio que pagamos sin problemas para obtener un score cuanto más alto posible de predecir los '1' de lo que realmente lo son."
   ]
  },
  {
   "cell_type": "markdown",
   "metadata": {},
   "source": [
    "Veamos también qué pinta tiene la curva roc:"
   ]
  },
  {
   "cell_type": "code",
   "execution_count": 95,
   "metadata": {},
   "outputs": [
    {
     "name": "stdout",
     "output_type": "stream",
     "text": [
      "roc_auc_score: 0.799\n"
     ]
    }
   ],
   "source": [
    "print('roc_auc_score: {:.3f}'.format(roc_auc_score(y_test, y_pred)))"
   ]
  },
  {
   "cell_type": "code",
   "execution_count": 97,
   "metadata": {},
   "outputs": [],
   "source": [
    "y_pred_proba = gridsearch.predict_proba(X_test)\n",
    "fpr, tpr, thresholds = roc_curve(y_test, y_pred_proba[:,1], pos_label=1)"
   ]
  },
  {
   "cell_type": "code",
   "execution_count": 98,
   "metadata": {},
   "outputs": [
    {
     "data": {
      "image/png": "[encoded data removed]",
      "text/plain": [
       "<Figure size 576x288 with 1 Axes>"
      ]
     },
     "metadata": {
      "needs_background": "light"
     },
     "output_type": "display_data"
    }
   ],
   "source": [
    "fig = plt.figure(figsize=(8,4))\n",
    "plt.plot(fpr, tpr, linestyle='--', lw=2, label='RandomForestClass')\n",
    "plt.legend()\n",
    "plt.title(\"RandomForest AUC: {:.3f}\".format(auc(x=fpr, y=tpr)), fontsize=14)\n",
    "plt.xlabel('False Positive Rate')\n",
    "plt.ylabel('True Positive Rate');\n",
    "#se puede comparar con result otros modelos!"
   ]
  },
  {
   "cell_type": "markdown",
   "metadata": {},
   "source": [
    "**FEATURE IMPORTANCE**"
   ]
  },
  {
   "cell_type": "code",
   "execution_count": 101,
   "metadata": {},
   "outputs": [
    {
     "data": {
      "text/plain": [
       "array([0.17420148, 0.19526306, 0.01805259, 0.0994245 , 0.04107919,\n",
       "       0.04251283, 0.        , 0.03963762, 0.02967384, 0.36015488])"
      ]
     },
     "execution_count": 101,
     "metadata": {},
     "output_type": "execute_result"
    }
   ],
   "source": [
    "my_model.feature_importances_"
   ]
  },
  {
   "cell_type": "code",
   "execution_count": 105,
   "metadata": {},
   "outputs": [
    {
     "data": {
      "text/plain": [
       "Index(['age', 'education-num', 'hours-per-week', 'capital-gain', 'sex',\n",
       "       'REL-NotInFam', 'REL-OtherRelat', 'REL-OwnChild', 'REL-Unmarr',\n",
       "       'REL-Spouse'],\n",
       "      dtype='object')"
      ]
     },
     "execution_count": 105,
     "metadata": {},
     "output_type": "execute_result"
    }
   ],
   "source": [
    "data_proc.columns[:-1]"
   ]
  },
  {
   "cell_type": "code",
   "execution_count": 106,
   "metadata": {},
   "outputs": [
    {
     "data": {
      "text/html": [
       "<div>\n",
       "<style scoped>\n",
       "    .dataframe tbody tr th:only-of-type {\n",
       "        vertical-align: middle;\n",
       "    }\n",
       "\n",
       "    .dataframe tbody tr th {\n",
       "        vertical-align: top;\n",
       "    }\n",
       "\n",
       "    .dataframe thead th {\n",
       "        text-align: right;\n",
       "    }\n",
       "</style>\n",
       "<table border=\"1\" class=\"dataframe\">\n",
       "  <thead>\n",
       "    <tr style=\"text-align: right;\">\n",
       "      <th></th>\n",
       "      <th>Feature importances</th>\n",
       "    </tr>\n",
       "  </thead>\n",
       "  <tbody>\n",
       "    <tr>\n",
       "      <th>REL-Spouse</th>\n",
       "      <td>0.360155</td>\n",
       "    </tr>\n",
       "    <tr>\n",
       "      <th>education-num</th>\n",
       "      <td>0.195263</td>\n",
       "    </tr>\n",
       "    <tr>\n",
       "      <th>age</th>\n",
       "      <td>0.174201</td>\n",
       "    </tr>\n",
       "    <tr>\n",
       "      <th>capital-gain</th>\n",
       "      <td>0.099424</td>\n",
       "    </tr>\n",
       "    <tr>\n",
       "      <th>REL-NotInFam</th>\n",
       "      <td>0.042513</td>\n",
       "    </tr>\n",
       "    <tr>\n",
       "      <th>sex</th>\n",
       "      <td>0.041079</td>\n",
       "    </tr>\n",
       "    <tr>\n",
       "      <th>REL-OwnChild</th>\n",
       "      <td>0.039638</td>\n",
       "    </tr>\n",
       "    <tr>\n",
       "      <th>REL-Unmarr</th>\n",
       "      <td>0.029674</td>\n",
       "    </tr>\n",
       "    <tr>\n",
       "      <th>hours-per-week</th>\n",
       "      <td>0.018053</td>\n",
       "    </tr>\n",
       "    <tr>\n",
       "      <th>REL-OtherRelat</th>\n",
       "      <td>0.000000</td>\n",
       "    </tr>\n",
       "  </tbody>\n",
       "</table>\n",
       "</div>"
      ],
      "text/plain": [
       "                Feature importances\n",
       "REL-Spouse                 0.360155\n",
       "education-num              0.195263\n",
       "age                        0.174201\n",
       "capital-gain               0.099424\n",
       "REL-NotInFam               0.042513\n",
       "sex                        0.041079\n",
       "REL-OwnChild               0.039638\n",
       "REL-Unmarr                 0.029674\n",
       "hours-per-week             0.018053\n",
       "REL-OtherRelat             0.000000"
      ]
     },
     "execution_count": 106,
     "metadata": {},
     "output_type": "execute_result"
    }
   ],
   "source": [
    "feat_importances = pd.DataFrame(my_model.feature_importances_,\n",
    "                          data_proc.columns[:-1], \n",
    "                          columns = [\"Feature importances\"]).sort_values(\"Feature importances\", ascending=False)\n",
    "feat_importances"
   ]
  },
  {
   "cell_type": "markdown",
   "metadata": {},
   "source": [
    "De manera algo sorprendente, vemos que REL-Spouse es el rasgo que más contribuye en este modelo para predecir un sueldo alto."
   ]
  },
  {
   "cell_type": "markdown",
   "metadata": {},
   "source": [
    "Dado que los mejores resultados se basan en modelos que consisten en DecisionTreeClassifiers, no aplicamos ningún Scaler en nuestro modelo final. (entre otros: https://towardsdatascience.com/do-decision-trees-need-feature-scaling-97809eaa60c6)"
   ]
  },
  {
   "cell_type": "markdown",
   "metadata": {},
   "source": [
    "**Después de este análisis, podemos proponer a nuestra organización el modelo que permite, en base a los criterios de los cuales disponemos, predecir a quién contactar con nuestra propuesta de inversión, y a quién no. Implica una estratégia mucho más eficaz en cuanto a implicación de recursos por parte de nuestra organización, y aumentará la eficacia de nuestros recursos invertidos vs. beneficio para la organización.**"
   ]
  },
  {
   "cell_type": "markdown",
   "metadata": {},
   "source": [
    "# 8. GUARDAR EL MODELO PARA SU APLICACIÓN"
   ]
  },
  {
   "cell_type": "code",
   "execution_count": 112,
   "metadata": {},
   "outputs": [],
   "source": [
    "with open('../model/my_model_desdeJUP', 'wb') as archivo_out:\n",
    "    pickle.dump(my_model, archivo_out)"
   ]
  },
  {
   "cell_type": "markdown",
   "metadata": {},
   "source": [
    "para volver a usar:"
   ]
  },
  {
   "cell_type": "code",
   "execution_count": 113,
   "metadata": {},
   "outputs": [],
   "source": [
    "with open('../model/my_model_desdeJup', 'rb') as archivo_in:\n",
    "    loaded_model = pickle.load(archivo_in)\n",
    "# loaded_model = pickle.load(open('my_model', 'rb'))"
   ]
  }
 ],
 "metadata": {
  "interpreter": {
   "hash": "7291fc089e198fa8915d0d58dd480239dc8daf5dc8a6486e165be5bbe751df3e"
  },
  "kernelspec": {
   "display_name": "Python 3.7.4 64-bit",
   "language": "python",
   "name": "python3"
  },
  "language_info": {
   "codemirror_mode": {
    "name": "ipython",
    "version": 3
   },
   "file_extension": ".py",
   "mimetype": "text/x-python",
   "name": "python",
   "nbconvert_exporter": "python",
   "pygments_lexer": "ipython3",
   "version": "3.7.4"
  },
  "orig_nbformat": 4
 },
 "nbformat": 4,
 "nbformat_minor": 2
}
